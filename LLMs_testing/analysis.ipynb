{
 "cells": [
  {
   "cell_type": "markdown",
   "id": "789c91ed",
   "metadata": {},
   "source": [
    "# Marathi Sentiment Analysis: Model Comparison and Error Analysis\n",
    "\n",
    "This notebook analyzes the results of fine-tuning multiple transformer models for Marathi sentiment classification. It performs the following steps:\n",
    "\n",
    "1.  **Gathers Metrics**: Reads the `summary.json` files from all training runs.\n",
    "2.  **Compares Models**: Consolidates the metrics into a table and identifies the best-performing model based on F1-score and accuracy.\n",
    "3.  **Visualizes Results**: Creates bar charts to visually compare the performance of the models.\n",
    "4.  **Performs Error Analysis**: For the best model, it loads the test predictions and analyzes the misclassified examples to identify common error patterns (e.g., sarcasm, negation, ambiguity).\n",
    "5.  **Generates README**: Creates a comprehensive `README.md` file with all the findings."
   ]
  },
  {
   "cell_type": "code",
   "execution_count": 29,
   "id": "64de7d94",
   "metadata": {},
   "outputs": [
    {
     "name": "stdout",
     "output_type": "stream",
     "text": [
      "Found 5 unique models:\n",
      "- xlm-roberta-base: 20250917_203037\n",
      "- l3cube-pune/marathi-albert-v2: 20250917_180532\n",
      "- l3cube-pune/marathi-bert: 20250917_173302\n",
      "- bert-base-multilingual-cased: 20250917_162312\n",
      "- google/muril-base-cased: 20250917_142448\n"
     ]
    }
   ],
   "source": [
    "import pandas as pd\n",
    "import json\n",
    "from pathlib import Path\n",
    "import plotly.express as px\n",
    "\n",
    "# Define the path to the results directory\n",
    "results_dir = Path(r\"C:\\LLM's_for_SA\\results\\notebook_run\")\n",
    "\n",
    "# Check if the directory exists\n",
    "if not results_dir.exists():\n",
    "    raise FileNotFoundError(f\"The directory {results_dir} does not exist. Please make sure you have run the training notebooks.\")\n",
    "\n",
    "# Get all run directories, sorted by creation time\n",
    "run_dirs = sorted(results_dir.iterdir(), key=lambda f: f.stat().st_mtime, reverse=True)\n",
    "\n",
    "latest_runs = {}\n",
    "for run_dir in run_dirs:\n",
    "    summary_path = run_dir / 'summary.json'\n",
    "    if summary_path.exists():\n",
    "        with open(summary_path, 'r', encoding='utf-8') as f:\n",
    "            try:\n",
    "                summary = json.load(f)\n",
    "                model_name = summary.get('model')\n",
    "                if model_name and model_name not in latest_runs:\n",
    "                    latest_runs[model_name] = run_dir\n",
    "            except json.JSONDecodeError:\n",
    "                print(f\"Skipping invalid JSON file: {summary_path}\")\n",
    "\n",
    "print(f\"Found {len(latest_runs)} unique models:\")\n",
    "for model_name, run_dir in latest_runs.items():\n",
    "    print(f\"- {model_name}: {run_dir.name}\")"
   ]
  },
  {
   "cell_type": "code",
   "execution_count": 30,
   "id": "2a6f5c39",
   "metadata": {},
   "outputs": [
    {
     "data": {
      "text/html": [
       "<div>\n",
       "<style scoped>\n",
       "    .dataframe tbody tr th:only-of-type {\n",
       "        vertical-align: middle;\n",
       "    }\n",
       "\n",
       "    .dataframe tbody tr th {\n",
       "        vertical-align: top;\n",
       "    }\n",
       "\n",
       "    .dataframe thead th {\n",
       "        text-align: right;\n",
       "    }\n",
       "</style>\n",
       "<table border=\"1\" class=\"dataframe\">\n",
       "  <thead>\n",
       "    <tr style=\"text-align: right;\">\n",
       "      <th></th>\n",
       "      <th>Model</th>\n",
       "      <th>Baseline Accuracy</th>\n",
       "      <th>Baseline F1</th>\n",
       "      <th>Finetuned Accuracy</th>\n",
       "      <th>Finetuned F1</th>\n",
       "      <th>Run Directory</th>\n",
       "    </tr>\n",
       "  </thead>\n",
       "  <tbody>\n",
       "    <tr>\n",
       "      <th>0</th>\n",
       "      <td>google/muril-base-cased</td>\n",
       "      <td>0.333333</td>\n",
       "      <td>0.166667</td>\n",
       "      <td>0.794333</td>\n",
       "      <td>0.792550</td>\n",
       "      <td>20250917_142448</td>\n",
       "    </tr>\n",
       "    <tr>\n",
       "      <th>1</th>\n",
       "      <td>l3cube-pune/marathi-albert-v2</td>\n",
       "      <td>0.333333</td>\n",
       "      <td>0.166667</td>\n",
       "      <td>0.780333</td>\n",
       "      <td>0.779034</td>\n",
       "      <td>20250917_180532</td>\n",
       "    </tr>\n",
       "    <tr>\n",
       "      <th>2</th>\n",
       "      <td>l3cube-pune/marathi-bert</td>\n",
       "      <td>0.331000</td>\n",
       "      <td>0.168996</td>\n",
       "      <td>0.778333</td>\n",
       "      <td>0.776411</td>\n",
       "      <td>20250917_173302</td>\n",
       "    </tr>\n",
       "    <tr>\n",
       "      <th>3</th>\n",
       "      <td>xlm-roberta-base</td>\n",
       "      <td>0.333333</td>\n",
       "      <td>0.166667</td>\n",
       "      <td>0.771667</td>\n",
       "      <td>0.769817</td>\n",
       "      <td>20250917_203037</td>\n",
       "    </tr>\n",
       "    <tr>\n",
       "      <th>4</th>\n",
       "      <td>bert-base-multilingual-cased</td>\n",
       "      <td>0.344333</td>\n",
       "      <td>0.256454</td>\n",
       "      <td>0.742000</td>\n",
       "      <td>0.740075</td>\n",
       "      <td>20250917_162312</td>\n",
       "    </tr>\n",
       "  </tbody>\n",
       "</table>\n",
       "</div>"
      ],
      "text/plain": [
       "                           Model  Baseline Accuracy  Baseline F1  \\\n",
       "0        google/muril-base-cased           0.333333     0.166667   \n",
       "1  l3cube-pune/marathi-albert-v2           0.333333     0.166667   \n",
       "2       l3cube-pune/marathi-bert           0.331000     0.168996   \n",
       "3               xlm-roberta-base           0.333333     0.166667   \n",
       "4   bert-base-multilingual-cased           0.344333     0.256454   \n",
       "\n",
       "   Finetuned Accuracy  Finetuned F1    Run Directory  \n",
       "0            0.794333      0.792550  20250917_142448  \n",
       "1            0.780333      0.779034  20250917_180532  \n",
       "2            0.778333      0.776411  20250917_173302  \n",
       "3            0.771667      0.769817  20250917_203037  \n",
       "4            0.742000      0.740075  20250917_162312  "
      ]
     },
     "execution_count": 30,
     "metadata": {},
     "output_type": "execute_result"
    }
   ],
   "source": [
    "records = []\n",
    "for model_name, run_dir in latest_runs.items():\n",
    "    summary_path = run_dir / 'summary.json'\n",
    "    with open(summary_path, 'r', encoding='utf-8') as f:\n",
    "        summary = json.load(f)\n",
    "        \n",
    "        # Extract baseline and finetuned metrics\n",
    "        baseline_metrics = summary.get('baseline', {})\n",
    "        finetuned_metrics = summary.get('finetuned', {})\n",
    "        \n",
    "        records.append({\n",
    "            'Model': model_name,\n",
    "            'Baseline Accuracy': baseline_metrics.get('accuracy'),\n",
    "            'Baseline F1': baseline_metrics.get('f1_macro'),\n",
    "            'Finetuned Accuracy': finetuned_metrics.get('accuracy'),\n",
    "            'Finetuned F1': finetuned_metrics.get('f1_macro'),\n",
    "            'Run Directory': run_dir.name\n",
    "        })\n",
    "\n",
    "# Create a DataFrame and display it\n",
    "df_results = pd.DataFrame(records).sort_values(by='Finetuned F1', ascending=False).reset_index(drop=True)\n",
    "df_results"
   ]
  },
  {
   "cell_type": "code",
   "execution_count": 31,
   "id": "6015b958",
   "metadata": {},
   "outputs": [
    {
     "data": {
      "application/vnd.plotly.v1+json": {
       "config": {
        "plotlyServerURL": "https://plot.ly"
       },
       "data": [
        {
         "hovertemplate": "Model=%{x}<br>F1 Score (Macro)=%{y}<extra></extra>",
         "legendgroup": "google/muril-base-cased",
         "marker": {
          "color": "#636efa",
          "pattern": {
           "shape": ""
          }
         },
         "name": "google/muril-base-cased",
         "orientation": "v",
         "showlegend": true,
         "textangle": 0,
         "textposition": "outside",
         "texttemplate": "%{y:.4f}",
         "type": "bar",
         "x": [
          "google/muril-base-cased"
         ],
         "xaxis": "x",
         "y": {
          "bdata": "z2150pJc6T8=",
          "dtype": "f8"
         },
         "yaxis": "y"
        },
        {
         "hovertemplate": "Model=%{x}<br>F1 Score (Macro)=%{y}<extra></extra>",
         "legendgroup": "l3cube-pune/marathi-albert-v2",
         "marker": {
          "color": "#EF553B",
          "pattern": {
           "shape": ""
          }
         },
         "name": "l3cube-pune/marathi-albert-v2",
         "orientation": "v",
         "showlegend": true,
         "textangle": 0,
         "textposition": "outside",
         "texttemplate": "%{y:.4f}",
         "type": "bar",
         "x": [
          "l3cube-pune/marathi-albert-v2"
         ],
         "xaxis": "x",
         "y": {
          "bdata": "SwTmmNjt6D8=",
          "dtype": "f8"
         },
         "yaxis": "y"
        },
        {
         "hovertemplate": "Model=%{x}<br>F1 Score (Macro)=%{y}<extra></extra>",
         "legendgroup": "l3cube-pune/marathi-bert",
         "marker": {
          "color": "#00cc96",
          "pattern": {
           "shape": ""
          }
         },
         "name": "l3cube-pune/marathi-bert",
         "orientation": "v",
         "showlegend": true,
         "textangle": 0,
         "textposition": "outside",
         "texttemplate": "%{y:.4f}",
         "type": "bar",
         "x": [
          "l3cube-pune/marathi-bert"
         ],
         "xaxis": "x",
         "y": {
          "bdata": "NbuyClzY6D8=",
          "dtype": "f8"
         },
         "yaxis": "y"
        },
        {
         "hovertemplate": "Model=%{x}<br>F1 Score (Macro)=%{y}<extra></extra>",
         "legendgroup": "xlm-roberta-base",
         "marker": {
          "color": "#ab63fa",
          "pattern": {
           "shape": ""
          }
         },
         "name": "xlm-roberta-base",
         "orientation": "v",
         "showlegend": true,
         "textangle": 0,
         "textposition": "outside",
         "texttemplate": "%{y:.4f}",
         "type": "bar",
         "x": [
          "xlm-roberta-base"
         ],
         "xaxis": "x",
         "y": {
          "bdata": "bT9Nc1ei6D8=",
          "dtype": "f8"
         },
         "yaxis": "y"
        },
        {
         "hovertemplate": "Model=%{x}<br>F1 Score (Macro)=%{y}<extra></extra>",
         "legendgroup": "bert-base-multilingual-cased",
         "marker": {
          "color": "#FFA15A",
          "pattern": {
           "shape": ""
          }
         },
         "name": "bert-base-multilingual-cased",
         "orientation": "v",
         "showlegend": true,
         "textangle": 0,
         "textposition": "outside",
         "texttemplate": "%{y:.4f}",
         "type": "bar",
         "x": [
          "bert-base-multilingual-cased"
         ],
         "xaxis": "x",
         "y": {
          "bdata": "qSdaprGu5z8=",
          "dtype": "f8"
         },
         "yaxis": "y"
        }
       ],
       "layout": {
        "barmode": "relative",
        "height": 800,
        "legend": {
         "title": {
          "text": "Model"
         },
         "tracegroupgap": 0
        },
        "margin": {
         "b": 150
        },
        "template": {
         "data": {
          "bar": [
           {
            "error_x": {
             "color": "#2a3f5f"
            },
            "error_y": {
             "color": "#2a3f5f"
            },
            "marker": {
             "line": {
              "color": "#E5ECF6",
              "width": 0.5
             },
             "pattern": {
              "fillmode": "overlay",
              "size": 10,
              "solidity": 0.2
             }
            },
            "type": "bar"
           }
          ],
          "barpolar": [
           {
            "marker": {
             "line": {
              "color": "#E5ECF6",
              "width": 0.5
             },
             "pattern": {
              "fillmode": "overlay",
              "size": 10,
              "solidity": 0.2
             }
            },
            "type": "barpolar"
           }
          ],
          "carpet": [
           {
            "aaxis": {
             "endlinecolor": "#2a3f5f",
             "gridcolor": "white",
             "linecolor": "white",
             "minorgridcolor": "white",
             "startlinecolor": "#2a3f5f"
            },
            "baxis": {
             "endlinecolor": "#2a3f5f",
             "gridcolor": "white",
             "linecolor": "white",
             "minorgridcolor": "white",
             "startlinecolor": "#2a3f5f"
            },
            "type": "carpet"
           }
          ],
          "choropleth": [
           {
            "colorbar": {
             "outlinewidth": 0,
             "ticks": ""
            },
            "type": "choropleth"
           }
          ],
          "contour": [
           {
            "colorbar": {
             "outlinewidth": 0,
             "ticks": ""
            },
            "colorscale": [
             [
              0,
              "#0d0887"
             ],
             [
              0.1111111111111111,
              "#46039f"
             ],
             [
              0.2222222222222222,
              "#7201a8"
             ],
             [
              0.3333333333333333,
              "#9c179e"
             ],
             [
              0.4444444444444444,
              "#bd3786"
             ],
             [
              0.5555555555555556,
              "#d8576b"
             ],
             [
              0.6666666666666666,
              "#ed7953"
             ],
             [
              0.7777777777777778,
              "#fb9f3a"
             ],
             [
              0.8888888888888888,
              "#fdca26"
             ],
             [
              1,
              "#f0f921"
             ]
            ],
            "type": "contour"
           }
          ],
          "contourcarpet": [
           {
            "colorbar": {
             "outlinewidth": 0,
             "ticks": ""
            },
            "type": "contourcarpet"
           }
          ],
          "heatmap": [
           {
            "colorbar": {
             "outlinewidth": 0,
             "ticks": ""
            },
            "colorscale": [
             [
              0,
              "#0d0887"
             ],
             [
              0.1111111111111111,
              "#46039f"
             ],
             [
              0.2222222222222222,
              "#7201a8"
             ],
             [
              0.3333333333333333,
              "#9c179e"
             ],
             [
              0.4444444444444444,
              "#bd3786"
             ],
             [
              0.5555555555555556,
              "#d8576b"
             ],
             [
              0.6666666666666666,
              "#ed7953"
             ],
             [
              0.7777777777777778,
              "#fb9f3a"
             ],
             [
              0.8888888888888888,
              "#fdca26"
             ],
             [
              1,
              "#f0f921"
             ]
            ],
            "type": "heatmap"
           }
          ],
          "histogram": [
           {
            "marker": {
             "pattern": {
              "fillmode": "overlay",
              "size": 10,
              "solidity": 0.2
             }
            },
            "type": "histogram"
           }
          ],
          "histogram2d": [
           {
            "colorbar": {
             "outlinewidth": 0,
             "ticks": ""
            },
            "colorscale": [
             [
              0,
              "#0d0887"
             ],
             [
              0.1111111111111111,
              "#46039f"
             ],
             [
              0.2222222222222222,
              "#7201a8"
             ],
             [
              0.3333333333333333,
              "#9c179e"
             ],
             [
              0.4444444444444444,
              "#bd3786"
             ],
             [
              0.5555555555555556,
              "#d8576b"
             ],
             [
              0.6666666666666666,
              "#ed7953"
             ],
             [
              0.7777777777777778,
              "#fb9f3a"
             ],
             [
              0.8888888888888888,
              "#fdca26"
             ],
             [
              1,
              "#f0f921"
             ]
            ],
            "type": "histogram2d"
           }
          ],
          "histogram2dcontour": [
           {
            "colorbar": {
             "outlinewidth": 0,
             "ticks": ""
            },
            "colorscale": [
             [
              0,
              "#0d0887"
             ],
             [
              0.1111111111111111,
              "#46039f"
             ],
             [
              0.2222222222222222,
              "#7201a8"
             ],
             [
              0.3333333333333333,
              "#9c179e"
             ],
             [
              0.4444444444444444,
              "#bd3786"
             ],
             [
              0.5555555555555556,
              "#d8576b"
             ],
             [
              0.6666666666666666,
              "#ed7953"
             ],
             [
              0.7777777777777778,
              "#fb9f3a"
             ],
             [
              0.8888888888888888,
              "#fdca26"
             ],
             [
              1,
              "#f0f921"
             ]
            ],
            "type": "histogram2dcontour"
           }
          ],
          "mesh3d": [
           {
            "colorbar": {
             "outlinewidth": 0,
             "ticks": ""
            },
            "type": "mesh3d"
           }
          ],
          "parcoords": [
           {
            "line": {
             "colorbar": {
              "outlinewidth": 0,
              "ticks": ""
             }
            },
            "type": "parcoords"
           }
          ],
          "pie": [
           {
            "automargin": true,
            "type": "pie"
           }
          ],
          "scatter": [
           {
            "fillpattern": {
             "fillmode": "overlay",
             "size": 10,
             "solidity": 0.2
            },
            "type": "scatter"
           }
          ],
          "scatter3d": [
           {
            "line": {
             "colorbar": {
              "outlinewidth": 0,
              "ticks": ""
             }
            },
            "marker": {
             "colorbar": {
              "outlinewidth": 0,
              "ticks": ""
             }
            },
            "type": "scatter3d"
           }
          ],
          "scattercarpet": [
           {
            "marker": {
             "colorbar": {
              "outlinewidth": 0,
              "ticks": ""
             }
            },
            "type": "scattercarpet"
           }
          ],
          "scattergeo": [
           {
            "marker": {
             "colorbar": {
              "outlinewidth": 0,
              "ticks": ""
             }
            },
            "type": "scattergeo"
           }
          ],
          "scattergl": [
           {
            "marker": {
             "colorbar": {
              "outlinewidth": 0,
              "ticks": ""
             }
            },
            "type": "scattergl"
           }
          ],
          "scattermap": [
           {
            "marker": {
             "colorbar": {
              "outlinewidth": 0,
              "ticks": ""
             }
            },
            "type": "scattermap"
           }
          ],
          "scattermapbox": [
           {
            "marker": {
             "colorbar": {
              "outlinewidth": 0,
              "ticks": ""
             }
            },
            "type": "scattermapbox"
           }
          ],
          "scatterpolar": [
           {
            "marker": {
             "colorbar": {
              "outlinewidth": 0,
              "ticks": ""
             }
            },
            "type": "scatterpolar"
           }
          ],
          "scatterpolargl": [
           {
            "marker": {
             "colorbar": {
              "outlinewidth": 0,
              "ticks": ""
             }
            },
            "type": "scatterpolargl"
           }
          ],
          "scatterternary": [
           {
            "marker": {
             "colorbar": {
              "outlinewidth": 0,
              "ticks": ""
             }
            },
            "type": "scatterternary"
           }
          ],
          "surface": [
           {
            "colorbar": {
             "outlinewidth": 0,
             "ticks": ""
            },
            "colorscale": [
             [
              0,
              "#0d0887"
             ],
             [
              0.1111111111111111,
              "#46039f"
             ],
             [
              0.2222222222222222,
              "#7201a8"
             ],
             [
              0.3333333333333333,
              "#9c179e"
             ],
             [
              0.4444444444444444,
              "#bd3786"
             ],
             [
              0.5555555555555556,
              "#d8576b"
             ],
             [
              0.6666666666666666,
              "#ed7953"
             ],
             [
              0.7777777777777778,
              "#fb9f3a"
             ],
             [
              0.8888888888888888,
              "#fdca26"
             ],
             [
              1,
              "#f0f921"
             ]
            ],
            "type": "surface"
           }
          ],
          "table": [
           {
            "cells": {
             "fill": {
              "color": "#EBF0F8"
             },
             "line": {
              "color": "white"
             }
            },
            "header": {
             "fill": {
              "color": "#C8D4E3"
             },
             "line": {
              "color": "white"
             }
            },
            "type": "table"
           }
          ]
         },
         "layout": {
          "annotationdefaults": {
           "arrowcolor": "#2a3f5f",
           "arrowhead": 0,
           "arrowwidth": 1
          },
          "autotypenumbers": "strict",
          "coloraxis": {
           "colorbar": {
            "outlinewidth": 0,
            "ticks": ""
           }
          },
          "colorscale": {
           "diverging": [
            [
             0,
             "#8e0152"
            ],
            [
             0.1,
             "#c51b7d"
            ],
            [
             0.2,
             "#de77ae"
            ],
            [
             0.3,
             "#f1b6da"
            ],
            [
             0.4,
             "#fde0ef"
            ],
            [
             0.5,
             "#f7f7f7"
            ],
            [
             0.6,
             "#e6f5d0"
            ],
            [
             0.7,
             "#b8e186"
            ],
            [
             0.8,
             "#7fbc41"
            ],
            [
             0.9,
             "#4d9221"
            ],
            [
             1,
             "#276419"
            ]
           ],
           "sequential": [
            [
             0,
             "#0d0887"
            ],
            [
             0.1111111111111111,
             "#46039f"
            ],
            [
             0.2222222222222222,
             "#7201a8"
            ],
            [
             0.3333333333333333,
             "#9c179e"
            ],
            [
             0.4444444444444444,
             "#bd3786"
            ],
            [
             0.5555555555555556,
             "#d8576b"
            ],
            [
             0.6666666666666666,
             "#ed7953"
            ],
            [
             0.7777777777777778,
             "#fb9f3a"
            ],
            [
             0.8888888888888888,
             "#fdca26"
            ],
            [
             1,
             "#f0f921"
            ]
           ],
           "sequentialminus": [
            [
             0,
             "#0d0887"
            ],
            [
             0.1111111111111111,
             "#46039f"
            ],
            [
             0.2222222222222222,
             "#7201a8"
            ],
            [
             0.3333333333333333,
             "#9c179e"
            ],
            [
             0.4444444444444444,
             "#bd3786"
            ],
            [
             0.5555555555555556,
             "#d8576b"
            ],
            [
             0.6666666666666666,
             "#ed7953"
            ],
            [
             0.7777777777777778,
             "#fb9f3a"
            ],
            [
             0.8888888888888888,
             "#fdca26"
            ],
            [
             1,
             "#f0f921"
            ]
           ]
          },
          "colorway": [
           "#636efa",
           "#EF553B",
           "#00cc96",
           "#ab63fa",
           "#FFA15A",
           "#19d3f3",
           "#FF6692",
           "#B6E880",
           "#FF97FF",
           "#FECB52"
          ],
          "font": {
           "color": "#2a3f5f"
          },
          "geo": {
           "bgcolor": "white",
           "lakecolor": "white",
           "landcolor": "#E5ECF6",
           "showlakes": true,
           "showland": true,
           "subunitcolor": "white"
          },
          "hoverlabel": {
           "align": "left"
          },
          "hovermode": "closest",
          "mapbox": {
           "style": "light"
          },
          "paper_bgcolor": "white",
          "plot_bgcolor": "#E5ECF6",
          "polar": {
           "angularaxis": {
            "gridcolor": "white",
            "linecolor": "white",
            "ticks": ""
           },
           "bgcolor": "#E5ECF6",
           "radialaxis": {
            "gridcolor": "white",
            "linecolor": "white",
            "ticks": ""
           }
          },
          "scene": {
           "xaxis": {
            "backgroundcolor": "#E5ECF6",
            "gridcolor": "white",
            "gridwidth": 2,
            "linecolor": "white",
            "showbackground": true,
            "ticks": "",
            "zerolinecolor": "white"
           },
           "yaxis": {
            "backgroundcolor": "#E5ECF6",
            "gridcolor": "white",
            "gridwidth": 2,
            "linecolor": "white",
            "showbackground": true,
            "ticks": "",
            "zerolinecolor": "white"
           },
           "zaxis": {
            "backgroundcolor": "#E5ECF6",
            "gridcolor": "white",
            "gridwidth": 2,
            "linecolor": "white",
            "showbackground": true,
            "ticks": "",
            "zerolinecolor": "white"
           }
          },
          "shapedefaults": {
           "line": {
            "color": "#2a3f5f"
           }
          },
          "ternary": {
           "aaxis": {
            "gridcolor": "white",
            "linecolor": "white",
            "ticks": ""
           },
           "baxis": {
            "gridcolor": "white",
            "linecolor": "white",
            "ticks": ""
           },
           "bgcolor": "#E5ECF6",
           "caxis": {
            "gridcolor": "white",
            "linecolor": "white",
            "ticks": ""
           }
          },
          "title": {
           "x": 0.05
          },
          "xaxis": {
           "automargin": true,
           "gridcolor": "white",
           "linecolor": "white",
           "ticks": "",
           "title": {
            "standoff": 15
           },
           "zerolinecolor": "white",
           "zerolinewidth": 2
          },
          "yaxis": {
           "automargin": true,
           "gridcolor": "white",
           "linecolor": "white",
           "ticks": "",
           "title": {
            "standoff": 15
           },
           "zerolinecolor": "white",
           "zerolinewidth": 2
          }
         }
        },
        "title": {
         "text": "Finetuned F1 Score Comparison"
        },
        "width": 800,
        "xaxis": {
         "anchor": "y",
         "categoryarray": [
          "google/muril-base-cased",
          "l3cube-pune/marathi-albert-v2",
          "l3cube-pune/marathi-bert",
          "xlm-roberta-base",
          "bert-base-multilingual-cased"
         ],
         "categoryorder": "array",
         "domain": [
          0,
          1
         ],
         "tickangle": -45,
         "title": {
          "text": "Model"
         }
        },
        "yaxis": {
         "anchor": "x",
         "domain": [
          0,
          1
         ],
         "title": {
          "text": "F1 Score (Macro)"
         }
        }
       }
      }
     },
     "metadata": {},
     "output_type": "display_data"
    },
    {
     "data": {
      "application/vnd.plotly.v1+json": {
       "config": {
        "plotlyServerURL": "https://plot.ly"
       },
       "data": [
        {
         "hovertemplate": "Model=%{x}<br>Accuracy=%{y}<extra></extra>",
         "legendgroup": "google/muril-base-cased",
         "marker": {
          "color": "#636efa",
          "pattern": {
           "shape": ""
          }
         },
         "name": "google/muril-base-cased",
         "orientation": "v",
         "showlegend": true,
         "textangle": 0,
         "textposition": "outside",
         "texttemplate": "%{y:.4f}",
         "type": "bar",
         "x": [
          "google/muril-base-cased"
         ],
         "xaxis": "x",
         "y": {
          "bdata": "OEIZvS1r6T8=",
          "dtype": "f8"
         },
         "yaxis": "y"
        },
        {
         "hovertemplate": "Model=%{x}<br>Accuracy=%{y}<extra></extra>",
         "legendgroup": "l3cube-pune/marathi-albert-v2",
         "marker": {
          "color": "#EF553B",
          "pattern": {
           "shape": ""
          }
         },
         "name": "l3cube-pune/marathi-albert-v2",
         "orientation": "v",
         "showlegend": true,
         "textangle": 0,
         "textposition": "outside",
         "texttemplate": "%{y:.4f}",
         "type": "bar",
         "x": [
          "l3cube-pune/marathi-albert-v2"
         ],
         "xaxis": "x",
         "y": {
          "bdata": "kqZUnH346D8=",
          "dtype": "f8"
         },
         "yaxis": "y"
        },
        {
         "hovertemplate": "Model=%{x}<br>Accuracy=%{y}<extra></extra>",
         "legendgroup": "l3cube-pune/marathi-bert",
         "marker": {
          "color": "#00cc96",
          "pattern": {
           "shape": ""
          }
         },
         "name": "l3cube-pune/marathi-bert",
         "orientation": "v",
         "showlegend": true,
         "textangle": 0,
         "textposition": "outside",
         "texttemplate": "%{y:.4f}",
         "type": "bar",
         "x": [
          "l3cube-pune/marathi-bert"
         ],
         "xaxis": "x",
         "y": {
          "bdata": "6LSBThvo6D8=",
          "dtype": "f8"
         },
         "yaxis": "y"
        },
        {
         "hovertemplate": "Model=%{x}<br>Accuracy=%{y}<extra></extra>",
         "legendgroup": "xlm-roberta-base",
         "marker": {
          "color": "#ab63fa",
          "pattern": {
           "shape": ""
          }
         },
         "name": "xlm-roberta-base",
         "orientation": "v",
         "showlegend": true,
         "textangle": 0,
         "textposition": "outside",
         "texttemplate": "%{y:.4f}",
         "type": "bar",
         "x": [
          "xlm-roberta-base"
         ],
         "xaxis": "x",
         "y": {
          "bdata": "seQXS36x6D8=",
          "dtype": "f8"
         },
         "yaxis": "y"
        },
        {
         "hovertemplate": "Model=%{x}<br>Accuracy=%{y}<extra></extra>",
         "legendgroup": "bert-base-multilingual-cased",
         "marker": {
          "color": "#FFA15A",
          "pattern": {
           "shape": ""
          }
         },
         "name": "bert-base-multilingual-cased",
         "orientation": "v",
         "showlegend": true,
         "textangle": 0,
         "textposition": "outside",
         "texttemplate": "%{y:.4f}",
         "type": "bar",
         "x": [
          "bert-base-multilingual-cased"
         ],
         "xaxis": "x",
         "y": {
          "bdata": "WDm0yHa+5z8=",
          "dtype": "f8"
         },
         "yaxis": "y"
        }
       ],
       "layout": {
        "barmode": "relative",
        "height": 800,
        "legend": {
         "title": {
          "text": "Model"
         },
         "tracegroupgap": 0
        },
        "margin": {
         "b": 150
        },
        "template": {
         "data": {
          "bar": [
           {
            "error_x": {
             "color": "#2a3f5f"
            },
            "error_y": {
             "color": "#2a3f5f"
            },
            "marker": {
             "line": {
              "color": "#E5ECF6",
              "width": 0.5
             },
             "pattern": {
              "fillmode": "overlay",
              "size": 10,
              "solidity": 0.2
             }
            },
            "type": "bar"
           }
          ],
          "barpolar": [
           {
            "marker": {
             "line": {
              "color": "#E5ECF6",
              "width": 0.5
             },
             "pattern": {
              "fillmode": "overlay",
              "size": 10,
              "solidity": 0.2
             }
            },
            "type": "barpolar"
           }
          ],
          "carpet": [
           {
            "aaxis": {
             "endlinecolor": "#2a3f5f",
             "gridcolor": "white",
             "linecolor": "white",
             "minorgridcolor": "white",
             "startlinecolor": "#2a3f5f"
            },
            "baxis": {
             "endlinecolor": "#2a3f5f",
             "gridcolor": "white",
             "linecolor": "white",
             "minorgridcolor": "white",
             "startlinecolor": "#2a3f5f"
            },
            "type": "carpet"
           }
          ],
          "choropleth": [
           {
            "colorbar": {
             "outlinewidth": 0,
             "ticks": ""
            },
            "type": "choropleth"
           }
          ],
          "contour": [
           {
            "colorbar": {
             "outlinewidth": 0,
             "ticks": ""
            },
            "colorscale": [
             [
              0,
              "#0d0887"
             ],
             [
              0.1111111111111111,
              "#46039f"
             ],
             [
              0.2222222222222222,
              "#7201a8"
             ],
             [
              0.3333333333333333,
              "#9c179e"
             ],
             [
              0.4444444444444444,
              "#bd3786"
             ],
             [
              0.5555555555555556,
              "#d8576b"
             ],
             [
              0.6666666666666666,
              "#ed7953"
             ],
             [
              0.7777777777777778,
              "#fb9f3a"
             ],
             [
              0.8888888888888888,
              "#fdca26"
             ],
             [
              1,
              "#f0f921"
             ]
            ],
            "type": "contour"
           }
          ],
          "contourcarpet": [
           {
            "colorbar": {
             "outlinewidth": 0,
             "ticks": ""
            },
            "type": "contourcarpet"
           }
          ],
          "heatmap": [
           {
            "colorbar": {
             "outlinewidth": 0,
             "ticks": ""
            },
            "colorscale": [
             [
              0,
              "#0d0887"
             ],
             [
              0.1111111111111111,
              "#46039f"
             ],
             [
              0.2222222222222222,
              "#7201a8"
             ],
             [
              0.3333333333333333,
              "#9c179e"
             ],
             [
              0.4444444444444444,
              "#bd3786"
             ],
             [
              0.5555555555555556,
              "#d8576b"
             ],
             [
              0.6666666666666666,
              "#ed7953"
             ],
             [
              0.7777777777777778,
              "#fb9f3a"
             ],
             [
              0.8888888888888888,
              "#fdca26"
             ],
             [
              1,
              "#f0f921"
             ]
            ],
            "type": "heatmap"
           }
          ],
          "histogram": [
           {
            "marker": {
             "pattern": {
              "fillmode": "overlay",
              "size": 10,
              "solidity": 0.2
             }
            },
            "type": "histogram"
           }
          ],
          "histogram2d": [
           {
            "colorbar": {
             "outlinewidth": 0,
             "ticks": ""
            },
            "colorscale": [
             [
              0,
              "#0d0887"
             ],
             [
              0.1111111111111111,
              "#46039f"
             ],
             [
              0.2222222222222222,
              "#7201a8"
             ],
             [
              0.3333333333333333,
              "#9c179e"
             ],
             [
              0.4444444444444444,
              "#bd3786"
             ],
             [
              0.5555555555555556,
              "#d8576b"
             ],
             [
              0.6666666666666666,
              "#ed7953"
             ],
             [
              0.7777777777777778,
              "#fb9f3a"
             ],
             [
              0.8888888888888888,
              "#fdca26"
             ],
             [
              1,
              "#f0f921"
             ]
            ],
            "type": "histogram2d"
           }
          ],
          "histogram2dcontour": [
           {
            "colorbar": {
             "outlinewidth": 0,
             "ticks": ""
            },
            "colorscale": [
             [
              0,
              "#0d0887"
             ],
             [
              0.1111111111111111,
              "#46039f"
             ],
             [
              0.2222222222222222,
              "#7201a8"
             ],
             [
              0.3333333333333333,
              "#9c179e"
             ],
             [
              0.4444444444444444,
              "#bd3786"
             ],
             [
              0.5555555555555556,
              "#d8576b"
             ],
             [
              0.6666666666666666,
              "#ed7953"
             ],
             [
              0.7777777777777778,
              "#fb9f3a"
             ],
             [
              0.8888888888888888,
              "#fdca26"
             ],
             [
              1,
              "#f0f921"
             ]
            ],
            "type": "histogram2dcontour"
           }
          ],
          "mesh3d": [
           {
            "colorbar": {
             "outlinewidth": 0,
             "ticks": ""
            },
            "type": "mesh3d"
           }
          ],
          "parcoords": [
           {
            "line": {
             "colorbar": {
              "outlinewidth": 0,
              "ticks": ""
             }
            },
            "type": "parcoords"
           }
          ],
          "pie": [
           {
            "automargin": true,
            "type": "pie"
           }
          ],
          "scatter": [
           {
            "fillpattern": {
             "fillmode": "overlay",
             "size": 10,
             "solidity": 0.2
            },
            "type": "scatter"
           }
          ],
          "scatter3d": [
           {
            "line": {
             "colorbar": {
              "outlinewidth": 0,
              "ticks": ""
             }
            },
            "marker": {
             "colorbar": {
              "outlinewidth": 0,
              "ticks": ""
             }
            },
            "type": "scatter3d"
           }
          ],
          "scattercarpet": [
           {
            "marker": {
             "colorbar": {
              "outlinewidth": 0,
              "ticks": ""
             }
            },
            "type": "scattercarpet"
           }
          ],
          "scattergeo": [
           {
            "marker": {
             "colorbar": {
              "outlinewidth": 0,
              "ticks": ""
             }
            },
            "type": "scattergeo"
           }
          ],
          "scattergl": [
           {
            "marker": {
             "colorbar": {
              "outlinewidth": 0,
              "ticks": ""
             }
            },
            "type": "scattergl"
           }
          ],
          "scattermap": [
           {
            "marker": {
             "colorbar": {
              "outlinewidth": 0,
              "ticks": ""
             }
            },
            "type": "scattermap"
           }
          ],
          "scattermapbox": [
           {
            "marker": {
             "colorbar": {
              "outlinewidth": 0,
              "ticks": ""
             }
            },
            "type": "scattermapbox"
           }
          ],
          "scatterpolar": [
           {
            "marker": {
             "colorbar": {
              "outlinewidth": 0,
              "ticks": ""
             }
            },
            "type": "scatterpolar"
           }
          ],
          "scatterpolargl": [
           {
            "marker": {
             "colorbar": {
              "outlinewidth": 0,
              "ticks": ""
             }
            },
            "type": "scatterpolargl"
           }
          ],
          "scatterternary": [
           {
            "marker": {
             "colorbar": {
              "outlinewidth": 0,
              "ticks": ""
             }
            },
            "type": "scatterternary"
           }
          ],
          "surface": [
           {
            "colorbar": {
             "outlinewidth": 0,
             "ticks": ""
            },
            "colorscale": [
             [
              0,
              "#0d0887"
             ],
             [
              0.1111111111111111,
              "#46039f"
             ],
             [
              0.2222222222222222,
              "#7201a8"
             ],
             [
              0.3333333333333333,
              "#9c179e"
             ],
             [
              0.4444444444444444,
              "#bd3786"
             ],
             [
              0.5555555555555556,
              "#d8576b"
             ],
             [
              0.6666666666666666,
              "#ed7953"
             ],
             [
              0.7777777777777778,
              "#fb9f3a"
             ],
             [
              0.8888888888888888,
              "#fdca26"
             ],
             [
              1,
              "#f0f921"
             ]
            ],
            "type": "surface"
           }
          ],
          "table": [
           {
            "cells": {
             "fill": {
              "color": "#EBF0F8"
             },
             "line": {
              "color": "white"
             }
            },
            "header": {
             "fill": {
              "color": "#C8D4E3"
             },
             "line": {
              "color": "white"
             }
            },
            "type": "table"
           }
          ]
         },
         "layout": {
          "annotationdefaults": {
           "arrowcolor": "#2a3f5f",
           "arrowhead": 0,
           "arrowwidth": 1
          },
          "autotypenumbers": "strict",
          "coloraxis": {
           "colorbar": {
            "outlinewidth": 0,
            "ticks": ""
           }
          },
          "colorscale": {
           "diverging": [
            [
             0,
             "#8e0152"
            ],
            [
             0.1,
             "#c51b7d"
            ],
            [
             0.2,
             "#de77ae"
            ],
            [
             0.3,
             "#f1b6da"
            ],
            [
             0.4,
             "#fde0ef"
            ],
            [
             0.5,
             "#f7f7f7"
            ],
            [
             0.6,
             "#e6f5d0"
            ],
            [
             0.7,
             "#b8e186"
            ],
            [
             0.8,
             "#7fbc41"
            ],
            [
             0.9,
             "#4d9221"
            ],
            [
             1,
             "#276419"
            ]
           ],
           "sequential": [
            [
             0,
             "#0d0887"
            ],
            [
             0.1111111111111111,
             "#46039f"
            ],
            [
             0.2222222222222222,
             "#7201a8"
            ],
            [
             0.3333333333333333,
             "#9c179e"
            ],
            [
             0.4444444444444444,
             "#bd3786"
            ],
            [
             0.5555555555555556,
             "#d8576b"
            ],
            [
             0.6666666666666666,
             "#ed7953"
            ],
            [
             0.7777777777777778,
             "#fb9f3a"
            ],
            [
             0.8888888888888888,
             "#fdca26"
            ],
            [
             1,
             "#f0f921"
            ]
           ],
           "sequentialminus": [
            [
             0,
             "#0d0887"
            ],
            [
             0.1111111111111111,
             "#46039f"
            ],
            [
             0.2222222222222222,
             "#7201a8"
            ],
            [
             0.3333333333333333,
             "#9c179e"
            ],
            [
             0.4444444444444444,
             "#bd3786"
            ],
            [
             0.5555555555555556,
             "#d8576b"
            ],
            [
             0.6666666666666666,
             "#ed7953"
            ],
            [
             0.7777777777777778,
             "#fb9f3a"
            ],
            [
             0.8888888888888888,
             "#fdca26"
            ],
            [
             1,
             "#f0f921"
            ]
           ]
          },
          "colorway": [
           "#636efa",
           "#EF553B",
           "#00cc96",
           "#ab63fa",
           "#FFA15A",
           "#19d3f3",
           "#FF6692",
           "#B6E880",
           "#FF97FF",
           "#FECB52"
          ],
          "font": {
           "color": "#2a3f5f"
          },
          "geo": {
           "bgcolor": "white",
           "lakecolor": "white",
           "landcolor": "#E5ECF6",
           "showlakes": true,
           "showland": true,
           "subunitcolor": "white"
          },
          "hoverlabel": {
           "align": "left"
          },
          "hovermode": "closest",
          "mapbox": {
           "style": "light"
          },
          "paper_bgcolor": "white",
          "plot_bgcolor": "#E5ECF6",
          "polar": {
           "angularaxis": {
            "gridcolor": "white",
            "linecolor": "white",
            "ticks": ""
           },
           "bgcolor": "#E5ECF6",
           "radialaxis": {
            "gridcolor": "white",
            "linecolor": "white",
            "ticks": ""
           }
          },
          "scene": {
           "xaxis": {
            "backgroundcolor": "#E5ECF6",
            "gridcolor": "white",
            "gridwidth": 2,
            "linecolor": "white",
            "showbackground": true,
            "ticks": "",
            "zerolinecolor": "white"
           },
           "yaxis": {
            "backgroundcolor": "#E5ECF6",
            "gridcolor": "white",
            "gridwidth": 2,
            "linecolor": "white",
            "showbackground": true,
            "ticks": "",
            "zerolinecolor": "white"
           },
           "zaxis": {
            "backgroundcolor": "#E5ECF6",
            "gridcolor": "white",
            "gridwidth": 2,
            "linecolor": "white",
            "showbackground": true,
            "ticks": "",
            "zerolinecolor": "white"
           }
          },
          "shapedefaults": {
           "line": {
            "color": "#2a3f5f"
           }
          },
          "ternary": {
           "aaxis": {
            "gridcolor": "white",
            "linecolor": "white",
            "ticks": ""
           },
           "baxis": {
            "gridcolor": "white",
            "linecolor": "white",
            "ticks": ""
           },
           "bgcolor": "#E5ECF6",
           "caxis": {
            "gridcolor": "white",
            "linecolor": "white",
            "ticks": ""
           }
          },
          "title": {
           "x": 0.05
          },
          "xaxis": {
           "automargin": true,
           "gridcolor": "white",
           "linecolor": "white",
           "ticks": "",
           "title": {
            "standoff": 15
           },
           "zerolinecolor": "white",
           "zerolinewidth": 2
          },
          "yaxis": {
           "automargin": true,
           "gridcolor": "white",
           "linecolor": "white",
           "ticks": "",
           "title": {
            "standoff": 15
           },
           "zerolinecolor": "white",
           "zerolinewidth": 2
          }
         }
        },
        "title": {
         "text": "Finetuned Accuracy Comparison"
        },
        "width": 800,
        "xaxis": {
         "anchor": "y",
         "categoryarray": [
          "google/muril-base-cased",
          "l3cube-pune/marathi-albert-v2",
          "l3cube-pune/marathi-bert",
          "xlm-roberta-base",
          "bert-base-multilingual-cased"
         ],
         "categoryorder": "array",
         "domain": [
          0,
          1
         ],
         "tickangle": -50,
         "title": {
          "text": "Model"
         }
        },
        "yaxis": {
         "anchor": "x",
         "domain": [
          0,
          1
         ],
         "title": {
          "text": "Accuracy"
         }
        }
       }
      }
     },
     "metadata": {},
     "output_type": "display_data"
    }
   ],
   "source": [
    "# Visualize the results\n",
    "fig_f1 = px.bar(df_results, x='Model', y='Finetuned F1', title='Finetuned F1 Score Comparison',\n",
    "                text_auto='.4f', color='Model',\n",
    "                labels={'Model': 'Model', 'Finetuned F1': 'F1 Score (Macro)'})\n",
    "fig_f1.update_traces(textangle=0, textposition='outside')\n",
    "fig_f1.update_layout(\n",
    "    xaxis_tickangle=-45,\n",
    "    margin=dict(b=150),  # Increase bottom margin further\n",
    "    height=800,          # Increase plot height\n",
    "    width=800           # Increase plot width\n",
    ")\n",
    "fig_f1.show()\n",
    "\n",
    "fig_acc = px.bar(df_results, x='Model', y='Finetuned Accuracy', title='Finetuned Accuracy Comparison',\n",
    "                 text_auto='.4f', color='Model',\n",
    "                 labels={'Model': 'Model', 'Finetuned Accuracy': 'Accuracy'})\n",
    "fig_acc.update_traces(textangle=0, textposition='outside')\n",
    "fig_acc.update_layout(\n",
    "    xaxis_tickangle=-50,\n",
    "    margin=dict(b=150),  # Increase bottom margin further\n",
    "    height=800,          # Increase plot height\n",
    "    width=800           # Increase plot width\n",
    ")\n",
    "fig_acc.show()"
   ]
  },
  {
   "cell_type": "code",
   "execution_count": 32,
   "id": "17078cf7",
   "metadata": {},
   "outputs": [
    {
     "name": "stdout",
     "output_type": "stream",
     "text": [
      "Performing error analysis on the best model: google/muril-base-cased\n",
      "Run directory: C:\\LLM's_for_SA\\results\\notebook_run\\20250917_142448\n",
      "Found 617 errors out of 3000 test samples.\n",
      "Found 617 errors out of 3000 test samples.\n"
     ]
    },
    {
     "data": {
      "text/html": [
       "<div>\n",
       "<style scoped>\n",
       "    .dataframe tbody tr th:only-of-type {\n",
       "        vertical-align: middle;\n",
       "    }\n",
       "\n",
       "    .dataframe tbody tr th {\n",
       "        vertical-align: top;\n",
       "    }\n",
       "\n",
       "    .dataframe thead th {\n",
       "        text-align: right;\n",
       "    }\n",
       "</style>\n",
       "<table border=\"1\" class=\"dataframe\">\n",
       "  <thead>\n",
       "    <tr style=\"text-align: right;\">\n",
       "      <th></th>\n",
       "      <th>text</th>\n",
       "      <th>true_label</th>\n",
       "      <th>predicted_label</th>\n",
       "    </tr>\n",
       "  </thead>\n",
       "  <tbody>\n",
       "    <tr>\n",
       "      <th>4</th>\n",
       "      <td>त्यांच्या दडपलेल्या भावना केवळ त्या पृष्ठभागाव...</td>\n",
       "      <td>neutral</td>\n",
       "      <td>negative</td>\n",
       "    </tr>\n",
       "    <tr>\n",
       "      <th>7</th>\n",
       "      <td>मला असे वाटले की आपण असे कोणीतरी आहात ज्याला म...</td>\n",
       "      <td>neutral</td>\n",
       "      <td>negative</td>\n",
       "    </tr>\n",
       "    <tr>\n",
       "      <th>13</th>\n",
       "      <td>मी गंभीर आहे.</td>\n",
       "      <td>neutral</td>\n",
       "      <td>negative</td>\n",
       "    </tr>\n",
       "    <tr>\n",
       "      <th>21</th>\n",
       "      <td>अरे आता तुला पॅड पाहिजे.</td>\n",
       "      <td>negative</td>\n",
       "      <td>neutral</td>\n",
       "    </tr>\n",
       "    <tr>\n",
       "      <th>24</th>\n",
       "      <td>कारण यामध्ये रोमॅंटिक काय आहे आणि कॉमेडी काय आ...</td>\n",
       "      <td>neutral</td>\n",
       "      <td>negative</td>\n",
       "    </tr>\n",
       "    <tr>\n",
       "      <th>37</th>\n",
       "      <td>खोलीभोवती त्याचा पाठलाग.</td>\n",
       "      <td>neutral</td>\n",
       "      <td>negative</td>\n",
       "    </tr>\n",
       "    <tr>\n",
       "      <th>52</th>\n",
       "      <td>या संकल्पनेसाठी समीर आणि त्याच्या टीमला हॅटस ऑफ</td>\n",
       "      <td>positive</td>\n",
       "      <td>neutral</td>\n",
       "    </tr>\n",
       "    <tr>\n",
       "      <th>53</th>\n",
       "      <td>घटस्फोटाची काळजी घेणार्‍या पिलो-टॉप राणीसाठी $...</td>\n",
       "      <td>negative</td>\n",
       "      <td>neutral</td>\n",
       "    </tr>\n",
       "    <tr>\n",
       "      <th>54</th>\n",
       "      <td>जाण्यासाठी मार्ग!</td>\n",
       "      <td>positive</td>\n",
       "      <td>neutral</td>\n",
       "    </tr>\n",
       "    <tr>\n",
       "      <th>55</th>\n",
       "      <td>दशावतार कलेबद्दल ती साकारणाऱ्यांबद्दल काहीही म...</td>\n",
       "      <td>negative</td>\n",
       "      <td>neutral</td>\n",
       "    </tr>\n",
       "    <tr>\n",
       "      <th>62</th>\n",
       "      <td>या चित्रपटाच्या निमित्ताने रणवीर खऱ्या अर्थाने...</td>\n",
       "      <td>positive</td>\n",
       "      <td>neutral</td>\n",
       "    </tr>\n",
       "    <tr>\n",
       "      <th>63</th>\n",
       "      <td>केवळ एका व्यावसायिक सिनेमाचं कथानक म्हणूनच त्य...</td>\n",
       "      <td>negative</td>\n",
       "      <td>neutral</td>\n",
       "    </tr>\n",
       "    <tr>\n",
       "      <th>66</th>\n",
       "      <td>दिपीका-रणवीरच्या लग्नानंतर रणवीरचा हा पहिलाच स...</td>\n",
       "      <td>positive</td>\n",
       "      <td>neutral</td>\n",
       "    </tr>\n",
       "    <tr>\n",
       "      <th>71</th>\n",
       "      <td>बाँड असे आहे की आपण ज्या यश आणि अपयशांमध्ये पू...</td>\n",
       "      <td>positive</td>\n",
       "      <td>neutral</td>\n",
       "    </tr>\n",
       "    <tr>\n",
       "      <th>72</th>\n",
       "      <td>ही मालतीची गोष्ट नक्कीच बघण्यासारखी आहे</td>\n",
       "      <td>neutral</td>\n",
       "      <td>positive</td>\n",
       "    </tr>\n",
       "    <tr>\n",
       "      <th>79</th>\n",
       "      <td>दोन, जॉयसोबतच्या माझ्या मैत्रीची मला किती काळज...</td>\n",
       "      <td>neutral</td>\n",
       "      <td>negative</td>\n",
       "    </tr>\n",
       "    <tr>\n",
       "      <th>80</th>\n",
       "      <td>हे निळ्याच्या मध्यभागी स्मॅक-डॅब आहे!</td>\n",
       "      <td>negative</td>\n",
       "      <td>neutral</td>\n",
       "    </tr>\n",
       "    <tr>\n",
       "      <th>81</th>\n",
       "      <td>पण याच वळणावर विराज अप्पांकडे पेइंग गेस्ट म्हण...</td>\n",
       "      <td>positive</td>\n",
       "      <td>neutral</td>\n",
       "    </tr>\n",
       "    <tr>\n",
       "      <th>89</th>\n",
       "      <td>हा सिनेमा पाहिल्यावर नक्कीच प्रत्येकाच्या डोळ्...</td>\n",
       "      <td>neutral</td>\n",
       "      <td>positive</td>\n",
       "    </tr>\n",
       "    <tr>\n",
       "      <th>93</th>\n",
       "      <td>तुम्हाला खरोखर वाटते की मला माझ्या खात्यातून द...</td>\n",
       "      <td>negative</td>\n",
       "      <td>neutral</td>\n",
       "    </tr>\n",
       "  </tbody>\n",
       "</table>\n",
       "</div>"
      ],
      "text/plain": [
       "                                                 text true_label  \\\n",
       "4   त्यांच्या दडपलेल्या भावना केवळ त्या पृष्ठभागाव...    neutral   \n",
       "7   मला असे वाटले की आपण असे कोणीतरी आहात ज्याला म...    neutral   \n",
       "13                                      मी गंभीर आहे.    neutral   \n",
       "21                           अरे आता तुला पॅड पाहिजे.   negative   \n",
       "24  कारण यामध्ये रोमॅंटिक काय आहे आणि कॉमेडी काय आ...    neutral   \n",
       "37                           खोलीभोवती त्याचा पाठलाग.    neutral   \n",
       "52    या संकल्पनेसाठी समीर आणि त्याच्या टीमला हॅटस ऑफ   positive   \n",
       "53  घटस्फोटाची काळजी घेणार्‍या पिलो-टॉप राणीसाठी $...   negative   \n",
       "54                                  जाण्यासाठी मार्ग!   positive   \n",
       "55  दशावतार कलेबद्दल ती साकारणाऱ्यांबद्दल काहीही म...   negative   \n",
       "62  या चित्रपटाच्या निमित्ताने रणवीर खऱ्या अर्थाने...   positive   \n",
       "63  केवळ एका व्यावसायिक सिनेमाचं कथानक म्हणूनच त्य...   negative   \n",
       "66  दिपीका-रणवीरच्या लग्नानंतर रणवीरचा हा पहिलाच स...   positive   \n",
       "71  बाँड असे आहे की आपण ज्या यश आणि अपयशांमध्ये पू...   positive   \n",
       "72            ही मालतीची गोष्ट नक्कीच बघण्यासारखी आहे    neutral   \n",
       "79  दोन, जॉयसोबतच्या माझ्या मैत्रीची मला किती काळज...    neutral   \n",
       "80              हे निळ्याच्या मध्यभागी स्मॅक-डॅब आहे!   negative   \n",
       "81  पण याच वळणावर विराज अप्पांकडे पेइंग गेस्ट म्हण...   positive   \n",
       "89  हा सिनेमा पाहिल्यावर नक्कीच प्रत्येकाच्या डोळ्...    neutral   \n",
       "93  तुम्हाला खरोखर वाटते की मला माझ्या खात्यातून द...   negative   \n",
       "\n",
       "   predicted_label  \n",
       "4         negative  \n",
       "7         negative  \n",
       "13        negative  \n",
       "21         neutral  \n",
       "24        negative  \n",
       "37        negative  \n",
       "52         neutral  \n",
       "53         neutral  \n",
       "54         neutral  \n",
       "55         neutral  \n",
       "62         neutral  \n",
       "63         neutral  \n",
       "66         neutral  \n",
       "71         neutral  \n",
       "72        positive  \n",
       "79        negative  \n",
       "80         neutral  \n",
       "81         neutral  \n",
       "89        positive  \n",
       "93         neutral  "
      ]
     },
     "execution_count": 32,
     "metadata": {},
     "output_type": "execute_result"
    }
   ],
   "source": [
    "# --- Error Analysis ---\n",
    "# Identify the best model\n",
    "best_model_info = df_results.iloc[0]\n",
    "best_model_name = best_model_info['Model']\n",
    "best_model_run_dir = results_dir / best_model_info['Run Directory']\n",
    "\n",
    "print(f\"Performing error analysis on the best model: {best_model_name}\")\n",
    "print(f\"Run directory: {best_model_run_dir}\")\n",
    "\n",
    "# Paths for the model and test data\n",
    "model_path = best_model_run_dir / 'model'\n",
    "test_data_path = best_model_run_dir / 'splits' / 'test.csv'\n",
    "\n",
    "# Check if model and data exist\n",
    "if not model_path.exists() or not test_data_path.exists():\n",
    "    raise FileNotFoundError(f\"Could not find model at {model_path} or test data at {test_data_path}\")\n",
    "\n",
    "# We need to redefine the evaluation utilities and classes from the training notebook\n",
    "import torch\n",
    "from torch.utils.data import Dataset, DataLoader\n",
    "from transformers import AutoTokenizer, AutoModelForSequenceClassification, DataCollatorWithPadding\n",
    "import numpy as np\n",
    "\n",
    "LABEL_ORDER = {'negative': 0, 'neutral': 1, 'positive': 2}\n",
    "ID2LABEL = {v: k for k, v in LABEL_ORDER.items()}\n",
    "MAX_LENGTH = 192 # Should match the training configuration\n",
    "\n",
    "class TextClsDS(Dataset):\n",
    "    def __init__(self, df, tokenizer, text_col='text', label_col='label_id', max_length=MAX_LENGTH):\n",
    "        self.df = df.reset_index(drop=True)\n",
    "        self.tokenizer = tokenizer\n",
    "        self.text_col = text_col\n",
    "        self.label_col = label_col\n",
    "        self.max_length = max_length\n",
    "    def __len__(self):\n",
    "        return len(self.df)\n",
    "    def __getitem__(self, idx):\n",
    "        r = self.df.iloc[idx]\n",
    "        enc = self.tokenizer(str(r[self.text_col]), truncation=True, max_length=self.max_length)\n",
    "        enc['labels'] = int(r[self.label_col])\n",
    "        return enc\n",
    "\n",
    "def eval_model_for_error_analysis(model, tokenizer, dataset, device, batch_size=32):\n",
    "    coll = DataCollatorWithPadding(tokenizer=tokenizer)\n",
    "    dl = DataLoader(dataset, batch_size=batch_size, collate_fn=coll)\n",
    "    model.to(device)\n",
    "    model.eval()\n",
    "    ys, ps = [], []\n",
    "    with torch.no_grad():\n",
    "        for batch in dl:\n",
    "            labels = batch.get('labels')\n",
    "            inputs = {k: v.to(device) for k, v in batch.items() if k != 'labels'}\n",
    "            logits = model(**inputs).logits.detach().cpu().numpy()\n",
    "            if labels is None: continue\n",
    "            ys.extend(labels.detach().cpu().numpy().tolist())\n",
    "            ps.extend(np.argmax(logits, axis=-1).tolist())\n",
    "    return np.array(ys), np.array(ps)\n",
    "\n",
    "# Load the model and tokenizer\n",
    "device = torch.device('cuda' if torch.cuda.is_available() else 'cpu')\n",
    "tokenizer = AutoTokenizer.from_pretrained(model_path)\n",
    "model = AutoModelForSequenceClassification.from_pretrained(model_path)\n",
    "\n",
    "# Load the test data\n",
    "df_test = pd.read_csv(test_data_path)\n",
    "test_ds = TextClsDS(df_test, tokenizer)\n",
    "\n",
    "# Get predictions\n",
    "y_true, y_pred = eval_model_for_error_analysis(model, tokenizer, test_ds, device)\n",
    "\n",
    "# Create a dataframe with errors\n",
    "df_test['predicted_id'] = y_pred\n",
    "df_test['predicted_label'] = df_test['predicted_id'].map(ID2LABEL)\n",
    "df_test['true_label'] = df_test['label_id'].map(ID2LABEL)\n",
    "\n",
    "df_errors = df_test[df_test['label_id'] != df_test['predicted_id']].copy()\n",
    "\n",
    "print(f\"Found {len(df_errors)} errors out of {len(df_test)} test samples.\")\n",
    "\n",
    "# Display some of the errors\n",
    "df_errors[['text', 'true_label', 'predicted_label']].head(20)"
   ]
  },
  {
   "cell_type": "code",
   "execution_count": 33,
   "id": "74797271",
   "metadata": {},
   "outputs": [
    {
     "name": "stdout",
     "output_type": "stream",
     "text": [
      "Error Category Distribution (Simple):\n",
      "error_category_simple\n",
      "Other/Complex      341\n",
      "Negation           218\n",
      "Ambiguous/Mixed     58\n",
      "Name: count, dtype: int64\n"
     ]
    },
    {
     "data": {
      "application/vnd.plotly.v1+json": {
       "config": {
        "plotlyServerURL": "https://plot.ly"
       },
       "data": [
        {
         "domain": {
          "x": [
           0,
           1
          ],
          "y": [
           0,
           1
          ]
         },
         "hole": 0.3,
         "hovertemplate": "error_category_simple=%{label}<br>value=%{value}<extra></extra>",
         "labels": [
          "Other/Complex",
          "Negation",
          "Ambiguous/Mixed"
         ],
         "legendgroup": "",
         "name": "",
         "showlegend": true,
         "textinfo": "percent+label",
         "textposition": "inside",
         "type": "pie",
         "values": {
          "bdata": "VQHaADoA",
          "dtype": "i2"
         }
        }
       ],
       "layout": {
        "legend": {
         "tracegroupgap": 0
        },
        "template": {
         "data": {
          "bar": [
           {
            "error_x": {
             "color": "#2a3f5f"
            },
            "error_y": {
             "color": "#2a3f5f"
            },
            "marker": {
             "line": {
              "color": "#E5ECF6",
              "width": 0.5
             },
             "pattern": {
              "fillmode": "overlay",
              "size": 10,
              "solidity": 0.2
             }
            },
            "type": "bar"
           }
          ],
          "barpolar": [
           {
            "marker": {
             "line": {
              "color": "#E5ECF6",
              "width": 0.5
             },
             "pattern": {
              "fillmode": "overlay",
              "size": 10,
              "solidity": 0.2
             }
            },
            "type": "barpolar"
           }
          ],
          "carpet": [
           {
            "aaxis": {
             "endlinecolor": "#2a3f5f",
             "gridcolor": "white",
             "linecolor": "white",
             "minorgridcolor": "white",
             "startlinecolor": "#2a3f5f"
            },
            "baxis": {
             "endlinecolor": "#2a3f5f",
             "gridcolor": "white",
             "linecolor": "white",
             "minorgridcolor": "white",
             "startlinecolor": "#2a3f5f"
            },
            "type": "carpet"
           }
          ],
          "choropleth": [
           {
            "colorbar": {
             "outlinewidth": 0,
             "ticks": ""
            },
            "type": "choropleth"
           }
          ],
          "contour": [
           {
            "colorbar": {
             "outlinewidth": 0,
             "ticks": ""
            },
            "colorscale": [
             [
              0,
              "#0d0887"
             ],
             [
              0.1111111111111111,
              "#46039f"
             ],
             [
              0.2222222222222222,
              "#7201a8"
             ],
             [
              0.3333333333333333,
              "#9c179e"
             ],
             [
              0.4444444444444444,
              "#bd3786"
             ],
             [
              0.5555555555555556,
              "#d8576b"
             ],
             [
              0.6666666666666666,
              "#ed7953"
             ],
             [
              0.7777777777777778,
              "#fb9f3a"
             ],
             [
              0.8888888888888888,
              "#fdca26"
             ],
             [
              1,
              "#f0f921"
             ]
            ],
            "type": "contour"
           }
          ],
          "contourcarpet": [
           {
            "colorbar": {
             "outlinewidth": 0,
             "ticks": ""
            },
            "type": "contourcarpet"
           }
          ],
          "heatmap": [
           {
            "colorbar": {
             "outlinewidth": 0,
             "ticks": ""
            },
            "colorscale": [
             [
              0,
              "#0d0887"
             ],
             [
              0.1111111111111111,
              "#46039f"
             ],
             [
              0.2222222222222222,
              "#7201a8"
             ],
             [
              0.3333333333333333,
              "#9c179e"
             ],
             [
              0.4444444444444444,
              "#bd3786"
             ],
             [
              0.5555555555555556,
              "#d8576b"
             ],
             [
              0.6666666666666666,
              "#ed7953"
             ],
             [
              0.7777777777777778,
              "#fb9f3a"
             ],
             [
              0.8888888888888888,
              "#fdca26"
             ],
             [
              1,
              "#f0f921"
             ]
            ],
            "type": "heatmap"
           }
          ],
          "histogram": [
           {
            "marker": {
             "pattern": {
              "fillmode": "overlay",
              "size": 10,
              "solidity": 0.2
             }
            },
            "type": "histogram"
           }
          ],
          "histogram2d": [
           {
            "colorbar": {
             "outlinewidth": 0,
             "ticks": ""
            },
            "colorscale": [
             [
              0,
              "#0d0887"
             ],
             [
              0.1111111111111111,
              "#46039f"
             ],
             [
              0.2222222222222222,
              "#7201a8"
             ],
             [
              0.3333333333333333,
              "#9c179e"
             ],
             [
              0.4444444444444444,
              "#bd3786"
             ],
             [
              0.5555555555555556,
              "#d8576b"
             ],
             [
              0.6666666666666666,
              "#ed7953"
             ],
             [
              0.7777777777777778,
              "#fb9f3a"
             ],
             [
              0.8888888888888888,
              "#fdca26"
             ],
             [
              1,
              "#f0f921"
             ]
            ],
            "type": "histogram2d"
           }
          ],
          "histogram2dcontour": [
           {
            "colorbar": {
             "outlinewidth": 0,
             "ticks": ""
            },
            "colorscale": [
             [
              0,
              "#0d0887"
             ],
             [
              0.1111111111111111,
              "#46039f"
             ],
             [
              0.2222222222222222,
              "#7201a8"
             ],
             [
              0.3333333333333333,
              "#9c179e"
             ],
             [
              0.4444444444444444,
              "#bd3786"
             ],
             [
              0.5555555555555556,
              "#d8576b"
             ],
             [
              0.6666666666666666,
              "#ed7953"
             ],
             [
              0.7777777777777778,
              "#fb9f3a"
             ],
             [
              0.8888888888888888,
              "#fdca26"
             ],
             [
              1,
              "#f0f921"
             ]
            ],
            "type": "histogram2dcontour"
           }
          ],
          "mesh3d": [
           {
            "colorbar": {
             "outlinewidth": 0,
             "ticks": ""
            },
            "type": "mesh3d"
           }
          ],
          "parcoords": [
           {
            "line": {
             "colorbar": {
              "outlinewidth": 0,
              "ticks": ""
             }
            },
            "type": "parcoords"
           }
          ],
          "pie": [
           {
            "automargin": true,
            "type": "pie"
           }
          ],
          "scatter": [
           {
            "fillpattern": {
             "fillmode": "overlay",
             "size": 10,
             "solidity": 0.2
            },
            "type": "scatter"
           }
          ],
          "scatter3d": [
           {
            "line": {
             "colorbar": {
              "outlinewidth": 0,
              "ticks": ""
             }
            },
            "marker": {
             "colorbar": {
              "outlinewidth": 0,
              "ticks": ""
             }
            },
            "type": "scatter3d"
           }
          ],
          "scattercarpet": [
           {
            "marker": {
             "colorbar": {
              "outlinewidth": 0,
              "ticks": ""
             }
            },
            "type": "scattercarpet"
           }
          ],
          "scattergeo": [
           {
            "marker": {
             "colorbar": {
              "outlinewidth": 0,
              "ticks": ""
             }
            },
            "type": "scattergeo"
           }
          ],
          "scattergl": [
           {
            "marker": {
             "colorbar": {
              "outlinewidth": 0,
              "ticks": ""
             }
            },
            "type": "scattergl"
           }
          ],
          "scattermap": [
           {
            "marker": {
             "colorbar": {
              "outlinewidth": 0,
              "ticks": ""
             }
            },
            "type": "scattermap"
           }
          ],
          "scattermapbox": [
           {
            "marker": {
             "colorbar": {
              "outlinewidth": 0,
              "ticks": ""
             }
            },
            "type": "scattermapbox"
           }
          ],
          "scatterpolar": [
           {
            "marker": {
             "colorbar": {
              "outlinewidth": 0,
              "ticks": ""
             }
            },
            "type": "scatterpolar"
           }
          ],
          "scatterpolargl": [
           {
            "marker": {
             "colorbar": {
              "outlinewidth": 0,
              "ticks": ""
             }
            },
            "type": "scatterpolargl"
           }
          ],
          "scatterternary": [
           {
            "marker": {
             "colorbar": {
              "outlinewidth": 0,
              "ticks": ""
             }
            },
            "type": "scatterternary"
           }
          ],
          "surface": [
           {
            "colorbar": {
             "outlinewidth": 0,
             "ticks": ""
            },
            "colorscale": [
             [
              0,
              "#0d0887"
             ],
             [
              0.1111111111111111,
              "#46039f"
             ],
             [
              0.2222222222222222,
              "#7201a8"
             ],
             [
              0.3333333333333333,
              "#9c179e"
             ],
             [
              0.4444444444444444,
              "#bd3786"
             ],
             [
              0.5555555555555556,
              "#d8576b"
             ],
             [
              0.6666666666666666,
              "#ed7953"
             ],
             [
              0.7777777777777778,
              "#fb9f3a"
             ],
             [
              0.8888888888888888,
              "#fdca26"
             ],
             [
              1,
              "#f0f921"
             ]
            ],
            "type": "surface"
           }
          ],
          "table": [
           {
            "cells": {
             "fill": {
              "color": "#EBF0F8"
             },
             "line": {
              "color": "white"
             }
            },
            "header": {
             "fill": {
              "color": "#C8D4E3"
             },
             "line": {
              "color": "white"
             }
            },
            "type": "table"
           }
          ]
         },
         "layout": {
          "annotationdefaults": {
           "arrowcolor": "#2a3f5f",
           "arrowhead": 0,
           "arrowwidth": 1
          },
          "autotypenumbers": "strict",
          "coloraxis": {
           "colorbar": {
            "outlinewidth": 0,
            "ticks": ""
           }
          },
          "colorscale": {
           "diverging": [
            [
             0,
             "#8e0152"
            ],
            [
             0.1,
             "#c51b7d"
            ],
            [
             0.2,
             "#de77ae"
            ],
            [
             0.3,
             "#f1b6da"
            ],
            [
             0.4,
             "#fde0ef"
            ],
            [
             0.5,
             "#f7f7f7"
            ],
            [
             0.6,
             "#e6f5d0"
            ],
            [
             0.7,
             "#b8e186"
            ],
            [
             0.8,
             "#7fbc41"
            ],
            [
             0.9,
             "#4d9221"
            ],
            [
             1,
             "#276419"
            ]
           ],
           "sequential": [
            [
             0,
             "#0d0887"
            ],
            [
             0.1111111111111111,
             "#46039f"
            ],
            [
             0.2222222222222222,
             "#7201a8"
            ],
            [
             0.3333333333333333,
             "#9c179e"
            ],
            [
             0.4444444444444444,
             "#bd3786"
            ],
            [
             0.5555555555555556,
             "#d8576b"
            ],
            [
             0.6666666666666666,
             "#ed7953"
            ],
            [
             0.7777777777777778,
             "#fb9f3a"
            ],
            [
             0.8888888888888888,
             "#fdca26"
            ],
            [
             1,
             "#f0f921"
            ]
           ],
           "sequentialminus": [
            [
             0,
             "#0d0887"
            ],
            [
             0.1111111111111111,
             "#46039f"
            ],
            [
             0.2222222222222222,
             "#7201a8"
            ],
            [
             0.3333333333333333,
             "#9c179e"
            ],
            [
             0.4444444444444444,
             "#bd3786"
            ],
            [
             0.5555555555555556,
             "#d8576b"
            ],
            [
             0.6666666666666666,
             "#ed7953"
            ],
            [
             0.7777777777777778,
             "#fb9f3a"
            ],
            [
             0.8888888888888888,
             "#fdca26"
            ],
            [
             1,
             "#f0f921"
            ]
           ]
          },
          "colorway": [
           "#636efa",
           "#EF553B",
           "#00cc96",
           "#ab63fa",
           "#FFA15A",
           "#19d3f3",
           "#FF6692",
           "#B6E880",
           "#FF97FF",
           "#FECB52"
          ],
          "font": {
           "color": "#2a3f5f"
          },
          "geo": {
           "bgcolor": "white",
           "lakecolor": "white",
           "landcolor": "#E5ECF6",
           "showlakes": true,
           "showland": true,
           "subunitcolor": "white"
          },
          "hoverlabel": {
           "align": "left"
          },
          "hovermode": "closest",
          "mapbox": {
           "style": "light"
          },
          "paper_bgcolor": "white",
          "plot_bgcolor": "#E5ECF6",
          "polar": {
           "angularaxis": {
            "gridcolor": "white",
            "linecolor": "white",
            "ticks": ""
           },
           "bgcolor": "#E5ECF6",
           "radialaxis": {
            "gridcolor": "white",
            "linecolor": "white",
            "ticks": ""
           }
          },
          "scene": {
           "xaxis": {
            "backgroundcolor": "#E5ECF6",
            "gridcolor": "white",
            "gridwidth": 2,
            "linecolor": "white",
            "showbackground": true,
            "ticks": "",
            "zerolinecolor": "white"
           },
           "yaxis": {
            "backgroundcolor": "#E5ECF6",
            "gridcolor": "white",
            "gridwidth": 2,
            "linecolor": "white",
            "showbackground": true,
            "ticks": "",
            "zerolinecolor": "white"
           },
           "zaxis": {
            "backgroundcolor": "#E5ECF6",
            "gridcolor": "white",
            "gridwidth": 2,
            "linecolor": "white",
            "showbackground": true,
            "ticks": "",
            "zerolinecolor": "white"
           }
          },
          "shapedefaults": {
           "line": {
            "color": "#2a3f5f"
           }
          },
          "ternary": {
           "aaxis": {
            "gridcolor": "white",
            "linecolor": "white",
            "ticks": ""
           },
           "baxis": {
            "gridcolor": "white",
            "linecolor": "white",
            "ticks": ""
           },
           "bgcolor": "#E5ECF6",
           "caxis": {
            "gridcolor": "white",
            "linecolor": "white",
            "ticks": ""
           }
          },
          "title": {
           "x": 0.05
          },
          "xaxis": {
           "automargin": true,
           "gridcolor": "white",
           "linecolor": "white",
           "ticks": "",
           "title": {
            "standoff": 15
           },
           "zerolinecolor": "white",
           "zerolinewidth": 2
          },
          "yaxis": {
           "automargin": true,
           "gridcolor": "white",
           "linecolor": "white",
           "ticks": "",
           "title": {
            "standoff": 15
           },
           "zerolinecolor": "white",
           "zerolinewidth": 2
          }
         }
        },
        "title": {
         "text": "Error Analysis for google/muril-base-cased"
        }
       }
      }
     },
     "metadata": {},
     "output_type": "display_data"
    },
    {
     "name": "stdout",
     "output_type": "stream",
     "text": [
      "\\nDetailed Error Analysis (Sample):\n"
     ]
    },
    {
     "data": {
      "text/html": [
       "<div>\n",
       "<style scoped>\n",
       "    .dataframe tbody tr th:only-of-type {\n",
       "        vertical-align: middle;\n",
       "    }\n",
       "\n",
       "    .dataframe tbody tr th {\n",
       "        vertical-align: top;\n",
       "    }\n",
       "\n",
       "    .dataframe thead th {\n",
       "        text-align: right;\n",
       "    }\n",
       "</style>\n",
       "<table border=\"1\" class=\"dataframe\">\n",
       "  <thead>\n",
       "    <tr style=\"text-align: right;\">\n",
       "      <th></th>\n",
       "      <th>Text</th>\n",
       "      <th>True Label</th>\n",
       "      <th>Predicted Label</th>\n",
       "      <th>Error Category</th>\n",
       "      <th>Potential Reason for Error</th>\n",
       "    </tr>\n",
       "  </thead>\n",
       "  <tbody>\n",
       "    <tr>\n",
       "      <th>4</th>\n",
       "      <td>त्यांच्या दडपलेल्या भावना केवळ त्या पृष्ठभागाव...</td>\n",
       "      <td>neutral</td>\n",
       "      <td>negative</td>\n",
       "      <td>Negation</td>\n",
       "      <td>The model failed to correctly process a negati...</td>\n",
       "    </tr>\n",
       "    <tr>\n",
       "      <th>7</th>\n",
       "      <td>मला असे वाटले की आपण असे कोणीतरी आहात ज्याला म...</td>\n",
       "      <td>neutral</td>\n",
       "      <td>negative</td>\n",
       "      <td>Neutral Ambiguity</td>\n",
       "      <td>The sentence is fact-based or lacks strong sen...</td>\n",
       "    </tr>\n",
       "    <tr>\n",
       "      <th>13</th>\n",
       "      <td>मी गंभीर आहे.</td>\n",
       "      <td>neutral</td>\n",
       "      <td>negative</td>\n",
       "      <td>Neutral Ambiguity</td>\n",
       "      <td>The sentence is fact-based or lacks strong sen...</td>\n",
       "    </tr>\n",
       "    <tr>\n",
       "      <th>21</th>\n",
       "      <td>अरे आता तुला पॅड पाहिजे.</td>\n",
       "      <td>negative</td>\n",
       "      <td>neutral</td>\n",
       "      <td>Neutral Ambiguity</td>\n",
       "      <td>The sentence has subtle sentiment (positive or...</td>\n",
       "    </tr>\n",
       "    <tr>\n",
       "      <th>24</th>\n",
       "      <td>कारण यामध्ये रोमॅंटिक काय आहे आणि कॉमेडी काय आ...</td>\n",
       "      <td>neutral</td>\n",
       "      <td>negative</td>\n",
       "      <td>Negation</td>\n",
       "      <td>The model failed to correctly process a negati...</td>\n",
       "    </tr>\n",
       "    <tr>\n",
       "      <th>37</th>\n",
       "      <td>खोलीभोवती त्याचा पाठलाग.</td>\n",
       "      <td>neutral</td>\n",
       "      <td>negative</td>\n",
       "      <td>Neutral Ambiguity</td>\n",
       "      <td>The sentence is fact-based or lacks strong sen...</td>\n",
       "    </tr>\n",
       "    <tr>\n",
       "      <th>52</th>\n",
       "      <td>या संकल्पनेसाठी समीर आणि त्याच्या टीमला हॅटस ऑफ</td>\n",
       "      <td>positive</td>\n",
       "      <td>neutral</td>\n",
       "      <td>Neutral Ambiguity</td>\n",
       "      <td>The sentence has subtle sentiment (positive or...</td>\n",
       "    </tr>\n",
       "    <tr>\n",
       "      <th>53</th>\n",
       "      <td>घटस्फोटाची काळजी घेणार्‍या पिलो-टॉप राणीसाठी $...</td>\n",
       "      <td>negative</td>\n",
       "      <td>neutral</td>\n",
       "      <td>Neutral Ambiguity</td>\n",
       "      <td>The sentence has subtle sentiment (positive or...</td>\n",
       "    </tr>\n",
       "    <tr>\n",
       "      <th>54</th>\n",
       "      <td>जाण्यासाठी मार्ग!</td>\n",
       "      <td>positive</td>\n",
       "      <td>neutral</td>\n",
       "      <td>Neutral Ambiguity</td>\n",
       "      <td>The sentence has subtle sentiment (positive or...</td>\n",
       "    </tr>\n",
       "    <tr>\n",
       "      <th>55</th>\n",
       "      <td>दशावतार कलेबद्दल ती साकारणाऱ्यांबद्दल काहीही म...</td>\n",
       "      <td>negative</td>\n",
       "      <td>neutral</td>\n",
       "      <td>Negation</td>\n",
       "      <td>The model failed to correctly process a negati...</td>\n",
       "    </tr>\n",
       "    <tr>\n",
       "      <th>62</th>\n",
       "      <td>या चित्रपटाच्या निमित्ताने रणवीर खऱ्या अर्थाने...</td>\n",
       "      <td>positive</td>\n",
       "      <td>neutral</td>\n",
       "      <td>Neutral Ambiguity</td>\n",
       "      <td>The sentence has subtle sentiment (positive or...</td>\n",
       "    </tr>\n",
       "    <tr>\n",
       "      <th>63</th>\n",
       "      <td>केवळ एका व्यावसायिक सिनेमाचं कथानक म्हणूनच त्य...</td>\n",
       "      <td>negative</td>\n",
       "      <td>neutral</td>\n",
       "      <td>Neutral Ambiguity</td>\n",
       "      <td>The sentence has subtle sentiment (positive or...</td>\n",
       "    </tr>\n",
       "    <tr>\n",
       "      <th>66</th>\n",
       "      <td>दिपीका-रणवीरच्या लग्नानंतर रणवीरचा हा पहिलाच स...</td>\n",
       "      <td>positive</td>\n",
       "      <td>neutral</td>\n",
       "      <td>Neutral Ambiguity</td>\n",
       "      <td>The sentence has subtle sentiment (positive or...</td>\n",
       "    </tr>\n",
       "    <tr>\n",
       "      <th>71</th>\n",
       "      <td>बाँड असे आहे की आपण ज्या यश आणि अपयशांमध्ये पू...</td>\n",
       "      <td>positive</td>\n",
       "      <td>neutral</td>\n",
       "      <td>Negation</td>\n",
       "      <td>The model failed to correctly process a negati...</td>\n",
       "    </tr>\n",
       "    <tr>\n",
       "      <th>72</th>\n",
       "      <td>ही मालतीची गोष्ट नक्कीच बघण्यासारखी आहे</td>\n",
       "      <td>neutral</td>\n",
       "      <td>positive</td>\n",
       "      <td>Neutral Ambiguity</td>\n",
       "      <td>The sentence is fact-based or lacks strong sen...</td>\n",
       "    </tr>\n",
       "    <tr>\n",
       "      <th>79</th>\n",
       "      <td>दोन, जॉयसोबतच्या माझ्या मैत्रीची मला किती काळज...</td>\n",
       "      <td>neutral</td>\n",
       "      <td>negative</td>\n",
       "      <td>Neutral Ambiguity</td>\n",
       "      <td>The sentence is fact-based or lacks strong sen...</td>\n",
       "    </tr>\n",
       "    <tr>\n",
       "      <th>80</th>\n",
       "      <td>हे निळ्याच्या मध्यभागी स्मॅक-डॅब आहे!</td>\n",
       "      <td>negative</td>\n",
       "      <td>neutral</td>\n",
       "      <td>Neutral Ambiguity</td>\n",
       "      <td>The sentence has subtle sentiment (positive or...</td>\n",
       "    </tr>\n",
       "    <tr>\n",
       "      <th>81</th>\n",
       "      <td>पण याच वळणावर विराज अप्पांकडे पेइंग गेस्ट म्हण...</td>\n",
       "      <td>positive</td>\n",
       "      <td>neutral</td>\n",
       "      <td>Negation</td>\n",
       "      <td>The model failed to correctly process a negati...</td>\n",
       "    </tr>\n",
       "    <tr>\n",
       "      <th>89</th>\n",
       "      <td>हा सिनेमा पाहिल्यावर नक्कीच प्रत्येकाच्या डोळ्...</td>\n",
       "      <td>neutral</td>\n",
       "      <td>positive</td>\n",
       "      <td>Negation</td>\n",
       "      <td>The model failed to correctly process a negati...</td>\n",
       "    </tr>\n",
       "    <tr>\n",
       "      <th>93</th>\n",
       "      <td>तुम्हाला खरोखर वाटते की मला माझ्या खात्यातून द...</td>\n",
       "      <td>negative</td>\n",
       "      <td>neutral</td>\n",
       "      <td>Neutral Ambiguity</td>\n",
       "      <td>The sentence has subtle sentiment (positive or...</td>\n",
       "    </tr>\n",
       "    <tr>\n",
       "      <th>98</th>\n",
       "      <td>इतरांनी या विक्षिप्तांच्या गावाला न गेलेलेच बरे</td>\n",
       "      <td>negative</td>\n",
       "      <td>neutral</td>\n",
       "      <td>Neutral Ambiguity</td>\n",
       "      <td>The sentence has subtle sentiment (positive or...</td>\n",
       "    </tr>\n",
       "    <tr>\n",
       "      <th>106</th>\n",
       "      <td>आमच्यापैकी कोणीही त्या लहान मुलीच्या जंप दोरीव...</td>\n",
       "      <td>neutral</td>\n",
       "      <td>negative</td>\n",
       "      <td>Neutral Ambiguity</td>\n",
       "      <td>The sentence is fact-based or lacks strong sen...</td>\n",
       "    </tr>\n",
       "    <tr>\n",
       "      <th>107</th>\n",
       "      <td>रॉस बिल्डिंगमधील ही गरम मुलगी माझ्याशी फ्लर्टि...</td>\n",
       "      <td>positive</td>\n",
       "      <td>negative</td>\n",
       "      <td>Idiom/Complex</td>\n",
       "      <td>The error is likely due to complex sentence st...</td>\n",
       "    </tr>\n",
       "    <tr>\n",
       "      <th>110</th>\n",
       "      <td>ते आमच्या वरच्या मजल्यावरच्या शेजारी अविश्वसनी...</td>\n",
       "      <td>negative</td>\n",
       "      <td>positive</td>\n",
       "      <td>Idiom/Complex</td>\n",
       "      <td>The error is likely due to complex sentence st...</td>\n",
       "    </tr>\n",
       "    <tr>\n",
       "      <th>111</th>\n",
       "      <td>उंचावल्या ना तुमच्याही भुवया?</td>\n",
       "      <td>neutral</td>\n",
       "      <td>negative</td>\n",
       "      <td>Negation</td>\n",
       "      <td>The model failed to correctly process a negati...</td>\n",
       "    </tr>\n",
       "    <tr>\n",
       "      <th>112</th>\n",
       "      <td>बंद!</td>\n",
       "      <td>negative</td>\n",
       "      <td>neutral</td>\n",
       "      <td>Neutral Ambiguity</td>\n",
       "      <td>The sentence has subtle sentiment (positive or...</td>\n",
       "    </tr>\n",
       "    <tr>\n",
       "      <th>113</th>\n",
       "      <td>प्रेमभंगाच्या दु:खात बुडालेली अभिनेत्री बबिता ...</td>\n",
       "      <td>neutral</td>\n",
       "      <td>negative</td>\n",
       "      <td>Neutral Ambiguity</td>\n",
       "      <td>The sentence is fact-based or lacks strong sen...</td>\n",
       "    </tr>\n",
       "    <tr>\n",
       "      <th>114</th>\n",
       "      <td>त्यासाठी त्याला शरीर मिळाले.</td>\n",
       "      <td>positive</td>\n",
       "      <td>neutral</td>\n",
       "      <td>Neutral Ambiguity</td>\n",
       "      <td>The sentence has subtle sentiment (positive or...</td>\n",
       "    </tr>\n",
       "    <tr>\n",
       "      <th>121</th>\n",
       "      <td>चला, आपण फक्त आपले थकबाकी भरत आहात.</td>\n",
       "      <td>neutral</td>\n",
       "      <td>negative</td>\n",
       "      <td>Neutral Ambiguity</td>\n",
       "      <td>The sentence is fact-based or lacks strong sen...</td>\n",
       "    </tr>\n",
       "    <tr>\n",
       "      <th>123</th>\n",
       "      <td>माझा पाय तुझ्या नितंबाच्या मध्यभागी भेटेल.</td>\n",
       "      <td>negative</td>\n",
       "      <td>neutral</td>\n",
       "      <td>Neutral Ambiguity</td>\n",
       "      <td>The sentence has subtle sentiment (positive or...</td>\n",
       "    </tr>\n",
       "  </tbody>\n",
       "</table>\n",
       "</div>"
      ],
      "text/plain": [
       "                                                  Text True Label  \\\n",
       "4    त्यांच्या दडपलेल्या भावना केवळ त्या पृष्ठभागाव...    neutral   \n",
       "7    मला असे वाटले की आपण असे कोणीतरी आहात ज्याला म...    neutral   \n",
       "13                                       मी गंभीर आहे.    neutral   \n",
       "21                            अरे आता तुला पॅड पाहिजे.   negative   \n",
       "24   कारण यामध्ये रोमॅंटिक काय आहे आणि कॉमेडी काय आ...    neutral   \n",
       "37                            खोलीभोवती त्याचा पाठलाग.    neutral   \n",
       "52     या संकल्पनेसाठी समीर आणि त्याच्या टीमला हॅटस ऑफ   positive   \n",
       "53   घटस्फोटाची काळजी घेणार्‍या पिलो-टॉप राणीसाठी $...   negative   \n",
       "54                                   जाण्यासाठी मार्ग!   positive   \n",
       "55   दशावतार कलेबद्दल ती साकारणाऱ्यांबद्दल काहीही म...   negative   \n",
       "62   या चित्रपटाच्या निमित्ताने रणवीर खऱ्या अर्थाने...   positive   \n",
       "63   केवळ एका व्यावसायिक सिनेमाचं कथानक म्हणूनच त्य...   negative   \n",
       "66   दिपीका-रणवीरच्या लग्नानंतर रणवीरचा हा पहिलाच स...   positive   \n",
       "71   बाँड असे आहे की आपण ज्या यश आणि अपयशांमध्ये पू...   positive   \n",
       "72             ही मालतीची गोष्ट नक्कीच बघण्यासारखी आहे    neutral   \n",
       "79   दोन, जॉयसोबतच्या माझ्या मैत्रीची मला किती काळज...    neutral   \n",
       "80               हे निळ्याच्या मध्यभागी स्मॅक-डॅब आहे!   negative   \n",
       "81   पण याच वळणावर विराज अप्पांकडे पेइंग गेस्ट म्हण...   positive   \n",
       "89   हा सिनेमा पाहिल्यावर नक्कीच प्रत्येकाच्या डोळ्...    neutral   \n",
       "93   तुम्हाला खरोखर वाटते की मला माझ्या खात्यातून द...   negative   \n",
       "98     इतरांनी या विक्षिप्तांच्या गावाला न गेलेलेच बरे   negative   \n",
       "106  आमच्यापैकी कोणीही त्या लहान मुलीच्या जंप दोरीव...    neutral   \n",
       "107  रॉस बिल्डिंगमधील ही गरम मुलगी माझ्याशी फ्लर्टि...   positive   \n",
       "110  ते आमच्या वरच्या मजल्यावरच्या शेजारी अविश्वसनी...   negative   \n",
       "111                      उंचावल्या ना तुमच्याही भुवया?    neutral   \n",
       "112                                               बंद!   negative   \n",
       "113  प्रेमभंगाच्या दु:खात बुडालेली अभिनेत्री बबिता ...    neutral   \n",
       "114                       त्यासाठी त्याला शरीर मिळाले.   positive   \n",
       "121                चला, आपण फक्त आपले थकबाकी भरत आहात.    neutral   \n",
       "123         माझा पाय तुझ्या नितंबाच्या मध्यभागी भेटेल.   negative   \n",
       "\n",
       "    Predicted Label     Error Category  \\\n",
       "4          negative           Negation   \n",
       "7          negative  Neutral Ambiguity   \n",
       "13         negative  Neutral Ambiguity   \n",
       "21          neutral  Neutral Ambiguity   \n",
       "24         negative           Negation   \n",
       "37         negative  Neutral Ambiguity   \n",
       "52          neutral  Neutral Ambiguity   \n",
       "53          neutral  Neutral Ambiguity   \n",
       "54          neutral  Neutral Ambiguity   \n",
       "55          neutral           Negation   \n",
       "62          neutral  Neutral Ambiguity   \n",
       "63          neutral  Neutral Ambiguity   \n",
       "66          neutral  Neutral Ambiguity   \n",
       "71          neutral           Negation   \n",
       "72         positive  Neutral Ambiguity   \n",
       "79         negative  Neutral Ambiguity   \n",
       "80          neutral  Neutral Ambiguity   \n",
       "81          neutral           Negation   \n",
       "89         positive           Negation   \n",
       "93          neutral  Neutral Ambiguity   \n",
       "98          neutral  Neutral Ambiguity   \n",
       "106        negative  Neutral Ambiguity   \n",
       "107        negative      Idiom/Complex   \n",
       "110        positive      Idiom/Complex   \n",
       "111        negative           Negation   \n",
       "112         neutral  Neutral Ambiguity   \n",
       "113        negative  Neutral Ambiguity   \n",
       "114         neutral  Neutral Ambiguity   \n",
       "121        negative  Neutral Ambiguity   \n",
       "123         neutral  Neutral Ambiguity   \n",
       "\n",
       "                            Potential Reason for Error  \n",
       "4    The model failed to correctly process a negati...  \n",
       "7    The sentence is fact-based or lacks strong sen...  \n",
       "13   The sentence is fact-based or lacks strong sen...  \n",
       "21   The sentence has subtle sentiment (positive or...  \n",
       "24   The model failed to correctly process a negati...  \n",
       "37   The sentence is fact-based or lacks strong sen...  \n",
       "52   The sentence has subtle sentiment (positive or...  \n",
       "53   The sentence has subtle sentiment (positive or...  \n",
       "54   The sentence has subtle sentiment (positive or...  \n",
       "55   The model failed to correctly process a negati...  \n",
       "62   The sentence has subtle sentiment (positive or...  \n",
       "63   The sentence has subtle sentiment (positive or...  \n",
       "66   The sentence has subtle sentiment (positive or...  \n",
       "71   The model failed to correctly process a negati...  \n",
       "72   The sentence is fact-based or lacks strong sen...  \n",
       "79   The sentence is fact-based or lacks strong sen...  \n",
       "80   The sentence has subtle sentiment (positive or...  \n",
       "81   The model failed to correctly process a negati...  \n",
       "89   The model failed to correctly process a negati...  \n",
       "93   The sentence has subtle sentiment (positive or...  \n",
       "98   The sentence has subtle sentiment (positive or...  \n",
       "106  The sentence is fact-based or lacks strong sen...  \n",
       "107  The error is likely due to complex sentence st...  \n",
       "110  The error is likely due to complex sentence st...  \n",
       "111  The model failed to correctly process a negati...  \n",
       "112  The sentence has subtle sentiment (positive or...  \n",
       "113  The sentence is fact-based or lacks strong sen...  \n",
       "114  The sentence has subtle sentiment (positive or...  \n",
       "121  The sentence is fact-based or lacks strong sen...  \n",
       "123  The sentence has subtle sentiment (positive or...  "
      ]
     },
     "execution_count": 33,
     "metadata": {},
     "output_type": "execute_result"
    }
   ],
   "source": [
    "# Categorize the errors\n",
    "def categorize_error(text):\n",
    "    text_lower = text.lower()\n",
    "    # Keywords for negation\n",
    "    negation_words = ['नाही', 'नाहीये', 'नको', 'नका', 'ना', 'not', 'no']\n",
    "    # Keywords for sarcasm or figurative language (this is difficult and context-dependent)\n",
    "    sarcasm_words = ['भारी', 'उत्तम', 'छानच', 'great', 'nice', 'wow'] # Often used sarcastically\n",
    "    # Keywords for ambiguity\n",
    "    ambiguous_words = ['पण', 'but', 'तरी', 'however', 'तरीही']\n",
    "\n",
    "    if any(word in text_lower for word in negation_words):\n",
    "        return 'Negation'\n",
    "    if any(word in text_lower for word in ambiguous_words):\n",
    "        return 'Ambiguous/Mixed'\n",
    "    # Simple check for sarcasm: positive words in a negative context (this is a heuristic)\n",
    "    if 'true_label' in df_errors.columns and 'negative' in df_errors['true_label'].iloc[0] and any(word in text_lower for word in sarcasm_words):\n",
    "         return 'Potential Sarcasm'\n",
    "    return 'Other/Complex'\n",
    "\n",
    "df_errors['error_category_simple'] = df_errors['text'].apply(categorize_error)\n",
    "\n",
    "# Display the distribution of error categories\n",
    "error_counts = df_errors['error_category_simple'].value_counts()\n",
    "print(\"Error Category Distribution (Simple):\")\n",
    "print(error_counts)\n",
    "\n",
    "# Visualize the error categories\n",
    "fig_errors = px.pie(error_counts, values=error_counts.values, names=error_counts.index,\n",
    "                    title=f'Error Analysis for {best_model_name}',\n",
    "                    hole=0.3)\n",
    "fig_errors.update_traces(textposition='inside', textinfo='percent+label')\n",
    "fig_errors.show()\n",
    "\n",
    "# --- Detailed Error Analysis (Refined) ---\n",
    "import re\n",
    "\n",
    "# Take a sample of up to 30 errors for a closer look\n",
    "error_samples = df_errors.head(30)\n",
    "\n",
    "def get_error_category_and_explanation(row):\n",
    "    text = row['text']\n",
    "    true_label = row['true_label']\n",
    "    pred_label = row['predicted_label']\n",
    "    \n",
    "    text_lower = text.lower()\n",
    "    \n",
    "    # 1. Negation\n",
    "    negation_words = ['नाही', 'नाहीये', 'नको', 'नका', 'ना', 'not', 'no', \"नाहीयेत\", \"नाहीत\"]\n",
    "    if any(word in text.split() for word in negation_words):\n",
    "        return \"Negation\", \"The model failed to correctly process a negative word like 'नाही' (not), leading to a misclassification of the sentiment.\"\n",
    "\n",
    "    # 2. Code-Mixing\n",
    "    if re.search(r'[a-zA-Z]', text):\n",
    "        return \"Code-Mixing\", \"The sentence contains a mix of Marathi and English. The model may have struggled to understand the sentiment of the English word within the Marathi sentence structure.\"\n",
    "\n",
    "    # 3. Sarcasm/Irony\n",
    "    positive_sarcasm_words = ['भारी', 'उत्तम', 'छानच', 'मस्त', 'great', 'nice', 'wow', 'amazing']\n",
    "    if true_label == 'negative' and any(word in text_lower for word in positive_sarcasm_words):\n",
    "        return \"Sarcasm/Irony\", \"The model likely misinterpreted a positive word used in a negative or sarcastic context, taking it literally instead of understanding the irony.\"\n",
    "\n",
    "    # 4. Neutral Ambiguity\n",
    "    if true_label == 'neutral' and pred_label != 'neutral':\n",
    "        return \"Neutral Ambiguity\", \"The sentence is fact-based or lacks strong sentiment, but the model forced a positive or negative classification.\"\n",
    "    if pred_label == 'neutral' and true_label != 'neutral':\n",
    "        return \"Neutral Ambiguity\", \"The sentence has subtle sentiment (positive or negative) that the model missed, causing it to default to a 'safe' neutral prediction.\"\n",
    "\n",
    "    # 5. Idioms / Colloquialisms / Complex\n",
    "    # This is a catch-all for errors that don't fit the other patterns.\n",
    "    return \"Idiom/Complex\", \"The error is likely due to complex sentence structure, nuanced language, a colloquialism, or an idiom whose meaning is not literal.\"\n",
    "\n",
    "\n",
    "# Apply the new categorization\n",
    "categorization_results = [get_error_category_and_explanation(row) for index, row in error_samples.iterrows()]\n",
    "df_detailed_errors = pd.DataFrame({\n",
    "    'Text': error_samples['text'],\n",
    "    'True Label': error_samples['true_label'],\n",
    "    'Predicted Label': error_samples['predicted_label'],\n",
    "    'Error Category': [res[0] for res in categorization_results],\n",
    "    'Potential Reason for Error': [res[1] for res in categorization_results]\n",
    "})\n",
    "\n",
    "print(\"\\\\nDetailed Error Analysis (Sample):\")\n",
    "df_detailed_errors\n"
   ]
  },
  {
   "cell_type": "code",
   "execution_count": 34,
   "id": "5e8a19b0",
   "metadata": {},
   "outputs": [
    {
     "data": {
      "text/html": [
       "<div>\n",
       "<style scoped>\n",
       "    .dataframe tbody tr th:only-of-type {\n",
       "        vertical-align: middle;\n",
       "    }\n",
       "\n",
       "    .dataframe tbody tr th {\n",
       "        vertical-align: top;\n",
       "    }\n",
       "\n",
       "    .dataframe thead th {\n",
       "        text-align: right;\n",
       "    }\n",
       "</style>\n",
       "<table border=\"1\" class=\"dataframe\">\n",
       "  <thead>\n",
       "    <tr style=\"text-align: right;\">\n",
       "      <th></th>\n",
       "      <th>Text</th>\n",
       "      <th>True Label</th>\n",
       "      <th>Predicted Label</th>\n",
       "      <th>Error Category</th>\n",
       "      <th>Potential Reason for Error</th>\n",
       "    </tr>\n",
       "  </thead>\n",
       "  <tbody>\n",
       "    <tr>\n",
       "      <th>4</th>\n",
       "      <td>त्यांच्या दडपलेल्या भावना केवळ त्या पृष्ठभागाव...</td>\n",
       "      <td>neutral</td>\n",
       "      <td>negative</td>\n",
       "      <td>Negation</td>\n",
       "      <td>The model failed to correctly process a negati...</td>\n",
       "    </tr>\n",
       "    <tr>\n",
       "      <th>7</th>\n",
       "      <td>मला असे वाटले की आपण असे कोणीतरी आहात ज्याला म...</td>\n",
       "      <td>neutral</td>\n",
       "      <td>negative</td>\n",
       "      <td>Neutral Ambiguity</td>\n",
       "      <td>The sentence is fact-based or lacks strong sen...</td>\n",
       "    </tr>\n",
       "    <tr>\n",
       "      <th>13</th>\n",
       "      <td>मी गंभीर आहे.</td>\n",
       "      <td>neutral</td>\n",
       "      <td>negative</td>\n",
       "      <td>Neutral Ambiguity</td>\n",
       "      <td>The sentence is fact-based or lacks strong sen...</td>\n",
       "    </tr>\n",
       "    <tr>\n",
       "      <th>21</th>\n",
       "      <td>अरे आता तुला पॅड पाहिजे.</td>\n",
       "      <td>negative</td>\n",
       "      <td>neutral</td>\n",
       "      <td>Neutral Ambiguity</td>\n",
       "      <td>The sentence has subtle sentiment (positive or...</td>\n",
       "    </tr>\n",
       "    <tr>\n",
       "      <th>24</th>\n",
       "      <td>कारण यामध्ये रोमॅंटिक काय आहे आणि कॉमेडी काय आ...</td>\n",
       "      <td>neutral</td>\n",
       "      <td>negative</td>\n",
       "      <td>Negation</td>\n",
       "      <td>The model failed to correctly process a negati...</td>\n",
       "    </tr>\n",
       "    <tr>\n",
       "      <th>37</th>\n",
       "      <td>खोलीभोवती त्याचा पाठलाग.</td>\n",
       "      <td>neutral</td>\n",
       "      <td>negative</td>\n",
       "      <td>Neutral Ambiguity</td>\n",
       "      <td>The sentence is fact-based or lacks strong sen...</td>\n",
       "    </tr>\n",
       "    <tr>\n",
       "      <th>52</th>\n",
       "      <td>या संकल्पनेसाठी समीर आणि त्याच्या टीमला हॅटस ऑफ</td>\n",
       "      <td>positive</td>\n",
       "      <td>neutral</td>\n",
       "      <td>Neutral Ambiguity</td>\n",
       "      <td>The sentence has subtle sentiment (positive or...</td>\n",
       "    </tr>\n",
       "    <tr>\n",
       "      <th>53</th>\n",
       "      <td>घटस्फोटाची काळजी घेणार्‍या पिलो-टॉप राणीसाठी $...</td>\n",
       "      <td>negative</td>\n",
       "      <td>neutral</td>\n",
       "      <td>Neutral Ambiguity</td>\n",
       "      <td>The sentence has subtle sentiment (positive or...</td>\n",
       "    </tr>\n",
       "    <tr>\n",
       "      <th>54</th>\n",
       "      <td>जाण्यासाठी मार्ग!</td>\n",
       "      <td>positive</td>\n",
       "      <td>neutral</td>\n",
       "      <td>Neutral Ambiguity</td>\n",
       "      <td>The sentence has subtle sentiment (positive or...</td>\n",
       "    </tr>\n",
       "    <tr>\n",
       "      <th>55</th>\n",
       "      <td>दशावतार कलेबद्दल ती साकारणाऱ्यांबद्दल काहीही म...</td>\n",
       "      <td>negative</td>\n",
       "      <td>neutral</td>\n",
       "      <td>Negation</td>\n",
       "      <td>The model failed to correctly process a negati...</td>\n",
       "    </tr>\n",
       "    <tr>\n",
       "      <th>62</th>\n",
       "      <td>या चित्रपटाच्या निमित्ताने रणवीर खऱ्या अर्थाने...</td>\n",
       "      <td>positive</td>\n",
       "      <td>neutral</td>\n",
       "      <td>Neutral Ambiguity</td>\n",
       "      <td>The sentence has subtle sentiment (positive or...</td>\n",
       "    </tr>\n",
       "    <tr>\n",
       "      <th>63</th>\n",
       "      <td>केवळ एका व्यावसायिक सिनेमाचं कथानक म्हणूनच त्य...</td>\n",
       "      <td>negative</td>\n",
       "      <td>neutral</td>\n",
       "      <td>Neutral Ambiguity</td>\n",
       "      <td>The sentence has subtle sentiment (positive or...</td>\n",
       "    </tr>\n",
       "    <tr>\n",
       "      <th>66</th>\n",
       "      <td>दिपीका-रणवीरच्या लग्नानंतर रणवीरचा हा पहिलाच स...</td>\n",
       "      <td>positive</td>\n",
       "      <td>neutral</td>\n",
       "      <td>Neutral Ambiguity</td>\n",
       "      <td>The sentence has subtle sentiment (positive or...</td>\n",
       "    </tr>\n",
       "    <tr>\n",
       "      <th>71</th>\n",
       "      <td>बाँड असे आहे की आपण ज्या यश आणि अपयशांमध्ये पू...</td>\n",
       "      <td>positive</td>\n",
       "      <td>neutral</td>\n",
       "      <td>Negation</td>\n",
       "      <td>The model failed to correctly process a negati...</td>\n",
       "    </tr>\n",
       "    <tr>\n",
       "      <th>72</th>\n",
       "      <td>ही मालतीची गोष्ट नक्कीच बघण्यासारखी आहे</td>\n",
       "      <td>neutral</td>\n",
       "      <td>positive</td>\n",
       "      <td>Neutral Ambiguity</td>\n",
       "      <td>The sentence is fact-based or lacks strong sen...</td>\n",
       "    </tr>\n",
       "    <tr>\n",
       "      <th>79</th>\n",
       "      <td>दोन, जॉयसोबतच्या माझ्या मैत्रीची मला किती काळज...</td>\n",
       "      <td>neutral</td>\n",
       "      <td>negative</td>\n",
       "      <td>Neutral Ambiguity</td>\n",
       "      <td>The sentence is fact-based or lacks strong sen...</td>\n",
       "    </tr>\n",
       "    <tr>\n",
       "      <th>80</th>\n",
       "      <td>हे निळ्याच्या मध्यभागी स्मॅक-डॅब आहे!</td>\n",
       "      <td>negative</td>\n",
       "      <td>neutral</td>\n",
       "      <td>Neutral Ambiguity</td>\n",
       "      <td>The sentence has subtle sentiment (positive or...</td>\n",
       "    </tr>\n",
       "    <tr>\n",
       "      <th>81</th>\n",
       "      <td>पण याच वळणावर विराज अप्पांकडे पेइंग गेस्ट म्हण...</td>\n",
       "      <td>positive</td>\n",
       "      <td>neutral</td>\n",
       "      <td>Negation</td>\n",
       "      <td>The model failed to correctly process a negati...</td>\n",
       "    </tr>\n",
       "    <tr>\n",
       "      <th>89</th>\n",
       "      <td>हा सिनेमा पाहिल्यावर नक्कीच प्रत्येकाच्या डोळ्...</td>\n",
       "      <td>neutral</td>\n",
       "      <td>positive</td>\n",
       "      <td>Negation</td>\n",
       "      <td>The model failed to correctly process a negati...</td>\n",
       "    </tr>\n",
       "    <tr>\n",
       "      <th>93</th>\n",
       "      <td>तुम्हाला खरोखर वाटते की मला माझ्या खात्यातून द...</td>\n",
       "      <td>negative</td>\n",
       "      <td>neutral</td>\n",
       "      <td>Neutral Ambiguity</td>\n",
       "      <td>The sentence has subtle sentiment (positive or...</td>\n",
       "    </tr>\n",
       "    <tr>\n",
       "      <th>98</th>\n",
       "      <td>इतरांनी या विक्षिप्तांच्या गावाला न गेलेलेच बरे</td>\n",
       "      <td>negative</td>\n",
       "      <td>neutral</td>\n",
       "      <td>Neutral Ambiguity</td>\n",
       "      <td>The sentence has subtle sentiment (positive or...</td>\n",
       "    </tr>\n",
       "    <tr>\n",
       "      <th>106</th>\n",
       "      <td>आमच्यापैकी कोणीही त्या लहान मुलीच्या जंप दोरीव...</td>\n",
       "      <td>neutral</td>\n",
       "      <td>negative</td>\n",
       "      <td>Neutral Ambiguity</td>\n",
       "      <td>The sentence is fact-based or lacks strong sen...</td>\n",
       "    </tr>\n",
       "    <tr>\n",
       "      <th>107</th>\n",
       "      <td>रॉस बिल्डिंगमधील ही गरम मुलगी माझ्याशी फ्लर्टि...</td>\n",
       "      <td>positive</td>\n",
       "      <td>negative</td>\n",
       "      <td>Idiom/Complex</td>\n",
       "      <td>The error is likely due to complex sentence st...</td>\n",
       "    </tr>\n",
       "    <tr>\n",
       "      <th>110</th>\n",
       "      <td>ते आमच्या वरच्या मजल्यावरच्या शेजारी अविश्वसनी...</td>\n",
       "      <td>negative</td>\n",
       "      <td>positive</td>\n",
       "      <td>Idiom/Complex</td>\n",
       "      <td>The error is likely due to complex sentence st...</td>\n",
       "    </tr>\n",
       "    <tr>\n",
       "      <th>111</th>\n",
       "      <td>उंचावल्या ना तुमच्याही भुवया?</td>\n",
       "      <td>neutral</td>\n",
       "      <td>negative</td>\n",
       "      <td>Negation</td>\n",
       "      <td>The model failed to correctly process a negati...</td>\n",
       "    </tr>\n",
       "    <tr>\n",
       "      <th>112</th>\n",
       "      <td>बंद!</td>\n",
       "      <td>negative</td>\n",
       "      <td>neutral</td>\n",
       "      <td>Neutral Ambiguity</td>\n",
       "      <td>The sentence has subtle sentiment (positive or...</td>\n",
       "    </tr>\n",
       "    <tr>\n",
       "      <th>113</th>\n",
       "      <td>प्रेमभंगाच्या दु:खात बुडालेली अभिनेत्री बबिता ...</td>\n",
       "      <td>neutral</td>\n",
       "      <td>negative</td>\n",
       "      <td>Neutral Ambiguity</td>\n",
       "      <td>The sentence is fact-based or lacks strong sen...</td>\n",
       "    </tr>\n",
       "    <tr>\n",
       "      <th>114</th>\n",
       "      <td>त्यासाठी त्याला शरीर मिळाले.</td>\n",
       "      <td>positive</td>\n",
       "      <td>neutral</td>\n",
       "      <td>Neutral Ambiguity</td>\n",
       "      <td>The sentence has subtle sentiment (positive or...</td>\n",
       "    </tr>\n",
       "    <tr>\n",
       "      <th>121</th>\n",
       "      <td>चला, आपण फक्त आपले थकबाकी भरत आहात.</td>\n",
       "      <td>neutral</td>\n",
       "      <td>negative</td>\n",
       "      <td>Neutral Ambiguity</td>\n",
       "      <td>The sentence is fact-based or lacks strong sen...</td>\n",
       "    </tr>\n",
       "    <tr>\n",
       "      <th>123</th>\n",
       "      <td>माझा पाय तुझ्या नितंबाच्या मध्यभागी भेटेल.</td>\n",
       "      <td>negative</td>\n",
       "      <td>neutral</td>\n",
       "      <td>Neutral Ambiguity</td>\n",
       "      <td>The sentence has subtle sentiment (positive or...</td>\n",
       "    </tr>\n",
       "  </tbody>\n",
       "</table>\n",
       "</div>"
      ],
      "text/plain": [
       "                                                  Text True Label  \\\n",
       "4    त्यांच्या दडपलेल्या भावना केवळ त्या पृष्ठभागाव...    neutral   \n",
       "7    मला असे वाटले की आपण असे कोणीतरी आहात ज्याला म...    neutral   \n",
       "13                                       मी गंभीर आहे.    neutral   \n",
       "21                            अरे आता तुला पॅड पाहिजे.   negative   \n",
       "24   कारण यामध्ये रोमॅंटिक काय आहे आणि कॉमेडी काय आ...    neutral   \n",
       "37                            खोलीभोवती त्याचा पाठलाग.    neutral   \n",
       "52     या संकल्पनेसाठी समीर आणि त्याच्या टीमला हॅटस ऑफ   positive   \n",
       "53   घटस्फोटाची काळजी घेणार्‍या पिलो-टॉप राणीसाठी $...   negative   \n",
       "54                                   जाण्यासाठी मार्ग!   positive   \n",
       "55   दशावतार कलेबद्दल ती साकारणाऱ्यांबद्दल काहीही म...   negative   \n",
       "62   या चित्रपटाच्या निमित्ताने रणवीर खऱ्या अर्थाने...   positive   \n",
       "63   केवळ एका व्यावसायिक सिनेमाचं कथानक म्हणूनच त्य...   negative   \n",
       "66   दिपीका-रणवीरच्या लग्नानंतर रणवीरचा हा पहिलाच स...   positive   \n",
       "71   बाँड असे आहे की आपण ज्या यश आणि अपयशांमध्ये पू...   positive   \n",
       "72             ही मालतीची गोष्ट नक्कीच बघण्यासारखी आहे    neutral   \n",
       "79   दोन, जॉयसोबतच्या माझ्या मैत्रीची मला किती काळज...    neutral   \n",
       "80               हे निळ्याच्या मध्यभागी स्मॅक-डॅब आहे!   negative   \n",
       "81   पण याच वळणावर विराज अप्पांकडे पेइंग गेस्ट म्हण...   positive   \n",
       "89   हा सिनेमा पाहिल्यावर नक्कीच प्रत्येकाच्या डोळ्...    neutral   \n",
       "93   तुम्हाला खरोखर वाटते की मला माझ्या खात्यातून द...   negative   \n",
       "98     इतरांनी या विक्षिप्तांच्या गावाला न गेलेलेच बरे   negative   \n",
       "106  आमच्यापैकी कोणीही त्या लहान मुलीच्या जंप दोरीव...    neutral   \n",
       "107  रॉस बिल्डिंगमधील ही गरम मुलगी माझ्याशी फ्लर्टि...   positive   \n",
       "110  ते आमच्या वरच्या मजल्यावरच्या शेजारी अविश्वसनी...   negative   \n",
       "111                      उंचावल्या ना तुमच्याही भुवया?    neutral   \n",
       "112                                               बंद!   negative   \n",
       "113  प्रेमभंगाच्या दु:खात बुडालेली अभिनेत्री बबिता ...    neutral   \n",
       "114                       त्यासाठी त्याला शरीर मिळाले.   positive   \n",
       "121                चला, आपण फक्त आपले थकबाकी भरत आहात.    neutral   \n",
       "123         माझा पाय तुझ्या नितंबाच्या मध्यभागी भेटेल.   negative   \n",
       "\n",
       "    Predicted Label     Error Category  \\\n",
       "4          negative           Negation   \n",
       "7          negative  Neutral Ambiguity   \n",
       "13         negative  Neutral Ambiguity   \n",
       "21          neutral  Neutral Ambiguity   \n",
       "24         negative           Negation   \n",
       "37         negative  Neutral Ambiguity   \n",
       "52          neutral  Neutral Ambiguity   \n",
       "53          neutral  Neutral Ambiguity   \n",
       "54          neutral  Neutral Ambiguity   \n",
       "55          neutral           Negation   \n",
       "62          neutral  Neutral Ambiguity   \n",
       "63          neutral  Neutral Ambiguity   \n",
       "66          neutral  Neutral Ambiguity   \n",
       "71          neutral           Negation   \n",
       "72         positive  Neutral Ambiguity   \n",
       "79         negative  Neutral Ambiguity   \n",
       "80          neutral  Neutral Ambiguity   \n",
       "81          neutral           Negation   \n",
       "89         positive           Negation   \n",
       "93          neutral  Neutral Ambiguity   \n",
       "98          neutral  Neutral Ambiguity   \n",
       "106        negative  Neutral Ambiguity   \n",
       "107        negative      Idiom/Complex   \n",
       "110        positive      Idiom/Complex   \n",
       "111        negative           Negation   \n",
       "112         neutral  Neutral Ambiguity   \n",
       "113        negative  Neutral Ambiguity   \n",
       "114         neutral  Neutral Ambiguity   \n",
       "121        negative  Neutral Ambiguity   \n",
       "123         neutral  Neutral Ambiguity   \n",
       "\n",
       "                            Potential Reason for Error  \n",
       "4    The model failed to correctly process a negati...  \n",
       "7    The sentence is fact-based or lacks strong sen...  \n",
       "13   The sentence is fact-based or lacks strong sen...  \n",
       "21   The sentence has subtle sentiment (positive or...  \n",
       "24   The model failed to correctly process a negati...  \n",
       "37   The sentence is fact-based or lacks strong sen...  \n",
       "52   The sentence has subtle sentiment (positive or...  \n",
       "53   The sentence has subtle sentiment (positive or...  \n",
       "54   The sentence has subtle sentiment (positive or...  \n",
       "55   The model failed to correctly process a negati...  \n",
       "62   The sentence has subtle sentiment (positive or...  \n",
       "63   The sentence has subtle sentiment (positive or...  \n",
       "66   The sentence has subtle sentiment (positive or...  \n",
       "71   The model failed to correctly process a negati...  \n",
       "72   The sentence is fact-based or lacks strong sen...  \n",
       "79   The sentence is fact-based or lacks strong sen...  \n",
       "80   The sentence has subtle sentiment (positive or...  \n",
       "81   The model failed to correctly process a negati...  \n",
       "89   The model failed to correctly process a negati...  \n",
       "93   The sentence has subtle sentiment (positive or...  \n",
       "98   The sentence has subtle sentiment (positive or...  \n",
       "106  The sentence is fact-based or lacks strong sen...  \n",
       "107  The error is likely due to complex sentence st...  \n",
       "110  The error is likely due to complex sentence st...  \n",
       "111  The model failed to correctly process a negati...  \n",
       "112  The sentence has subtle sentiment (positive or...  \n",
       "113  The sentence is fact-based or lacks strong sen...  \n",
       "114  The sentence has subtle sentiment (positive or...  \n",
       "121  The sentence is fact-based or lacks strong sen...  \n",
       "123  The sentence has subtle sentiment (positive or...  "
      ]
     },
     "execution_count": 34,
     "metadata": {},
     "output_type": "execute_result"
    }
   ],
   "source": [
    "\n",
    "# --- Detailed Error Analysis (Refined) ---\n",
    "\n",
    "import re\n",
    "\n",
    "# Take a sample of up to 30 errors for a closer look\n",
    "error_samples = df_errors.head(30)\n",
    "error_explanations = []\n",
    "\n",
    "def get_error_category_and_explanation(row):\n",
    "    text = row['text']\n",
    "    true_label = row['true_label']\n",
    "    pred_label = row['predicted_label']\n",
    "    \n",
    "    text_lower = text.lower()\n",
    "    \n",
    "    # 1. Negation\n",
    "    negation_words = ['नाही', 'नाहीये', 'नको', 'नका', 'ना', 'not', 'no', \"नाहीयेत\", \"नाहीत\"]\n",
    "    if any(word in text.split() for word in negation_words):\n",
    "        return \"Negation\", \"The model failed to correctly process a negative word like 'नाही' (not), leading to a misclassification of the sentiment.\"\n",
    "\n",
    "    # 2. Code-Mixing\n",
    "    if re.search(r'[a-zA-Z]', text):\n",
    "        return \"Code-Mixing\", \"The sentence contains a mix of Marathi and English. The model may have struggled to understand the sentiment of the English word within the Marathi sentence structure.\"\n",
    "\n",
    "    # 3. Sarcasm/Irony\n",
    "    positive_sarcasm_words = ['भारी', 'उत्तम', 'छानच', 'मस्त', 'great', 'nice', 'wow', 'amazing']\n",
    "    if true_label == 'negative' and any(word in text_lower for word in positive_sarcasm_words):\n",
    "        return \"Sarcasm/Irony\", \"The model likely misinterpreted a positive word used in a negative or sarcastic context, taking it literally instead of understanding the irony.\"\n",
    "\n",
    "    # 4. Neutral Ambiguity\n",
    "    if true_label == 'neutral' and pred_label != 'neutral':\n",
    "        return \"Neutral Ambiguity\", \"The sentence is fact-based or lacks strong sentiment, but the model forced a positive or negative classification.\"\n",
    "    if pred_label == 'neutral' and true_label != 'neutral':\n",
    "        return \"Neutral Ambiguity\", \"The sentence has subtle sentiment (positive or negative) that the model missed, causing it to default to a 'safe' neutral prediction.\"\n",
    "\n",
    "    # 5. Idioms / Colloquialisms / Complex\n",
    "    # This is a catch-all for errors that don't fit the other patterns.\n",
    "    return \"Idiom/Complex\", \"The error is likely due to complex sentence structure, nuanced language, a colloquialism, or an idiom whose meaning is not literal.\"\n",
    "\n",
    "\n",
    "# Apply the new categorization\n",
    "categorization_results = [get_error_category_and_explanation(row) for index, row in error_samples.iterrows()]\n",
    "df_detailed_errors = pd.DataFrame({\n",
    "    'Text': error_samples['text'],\n",
    "    'True Label': error_samples['true_label'],\n",
    "    'Predicted Label': error_samples['predicted_label'],\n",
    "    'Error Category': [res[0] for res in categorization_results],\n",
    "    'Potential Reason for Error': [res[1] for res in categorization_results]\n",
    "})\n",
    "\n",
    "df_detailed_errors\n"
   ]
  },
  {
   "cell_type": "code",
   "execution_count": 35,
   "id": "7f1579df",
   "metadata": {},
   "outputs": [
    {
     "name": "stdout",
     "output_type": "stream",
     "text": [
      "✅ Research paper style README.md has been successfully generated at: c:\\LLM's_for_SA\\LLMs_testing\\README.md\n",
      "All plots have been saved in the 'images' directory.\n"
     ]
    }
   ],
   "source": [
    "# --- Generate Research Paper Style README.md ---\n",
    "import plotly.io as pio\n",
    "from datetime import datetime\n",
    "\n",
    "# Define paths\n",
    "# The script runs from LLMs_testing, so paths are relative to it.\n",
    "readme_path = Path.cwd() / 'README.md'\n",
    "images_dir = Path.cwd() / 'images'\n",
    "images_dir.mkdir(exist_ok=True)\n",
    "\n",
    "# Save figures as static images, using relative paths for the README\n",
    "f1_img_path = images_dir / 'f1_comparison.png'\n",
    "acc_img_path = images_dir / 'accuracy_comparison.png'\n",
    "errors_img_path = images_dir / 'error_analysis.png'\n",
    "\n",
    "pio.write_image(fig_f1, f1_img_path, scale=2)\n",
    "pio.write_image(fig_acc, acc_img_path, scale=2)\n",
    "pio.write_image(fig_errors, errors_img_path, scale=2)\n",
    "\n",
    "# --- Content for README ---\n",
    "\n",
    "# 1. Results and Detailed Errors to Markdown\n",
    "results_md = df_results.to_markdown(index=False)\n",
    "detailed_errors_md = df_detailed_errors.to_markdown(index=False)\n",
    "\n",
    "# 2. Best model info\n",
    "best_model_name = best_model_info['Model']\n",
    "best_f1 = best_model_info['Finetuned F1']\n",
    "best_acc = best_model_info['Finetuned Accuracy']\n",
    "\n",
    "# 3. Error category distribution for summary\n",
    "error_category_counts = df_detailed_errors['Error Category'].value_counts().to_markdown()\n",
    "\n",
    "# 4. Construct the README content string\n",
    "readme_content = f\"\"\"\n",
    "# Fine-Tuning Transformer Models for Marathi Sentiment Analysis\n",
    "\n",
    "**Author**: Ashish Parmar\n",
    "**Date**: {datetime.now().strftime('%B %d, %Y')}\n",
    "**Version**: 1.1.0\n",
    "\n",
    "---\n",
    "\n",
    "### **Abstract**\n",
    "\n",
    "This paper presents an empirical study on fine-tuning various transformer-based language models for sentiment analysis on a Marathi-language dataset. We evaluate and compare the performance of several multilingual and Marathi-specific models, including `xlm-roberta-base`, `bert-base-multilingual-cased`, `google/muril-base-cased`, and variants from the L3Cube-MahaNLP suite. The objective is to identify the most effective model architecture for this task and to conduct a thorough qualitative error analysis to understand its limitations in handling complex linguistic nuances such as negation, sarcasm, and code-mixing. Our results indicate that **{best_model_name}** achieves the highest performance, with a macro F1-score of **{best_f1:.4f}** and an accuracy of **{best_acc:.4f}**. This study provides valuable insights and a reproducible benchmark for practitioners working on sentiment analysis for low-resource Indic languages.\n",
    "\n",
    "---\n",
    "\n",
    "## 1. Introduction\n",
    "\n",
    "Sentiment analysis is a critical task in Natural Language Processing (NLP) with wide-ranging applications, from social media monitoring to customer feedback analysis. While significant progress has been made for high-resource languages like English, low-resource languages such as Marathi present unique challenges due to the scarcity of labeled data and monolingual pretrained models. This project aims to address this gap by systematically fine-tuning and evaluating a suite of transformer models on a custom Marathi sentiment dataset, thereby creating a robust baseline for future research.\n",
    "\n",
    "The primary contributions of this work are:\n",
    "- A standardized, end-to-end pipeline for fine-tuning and evaluating sentiment analysis models in Marathi, suitable for GPUs with moderate memory (e.g., NVIDIA RTX 4050).\n",
    "- A comparative analysis of several state-of-the-art multilingual and Marathi-specific models to determine their relative effectiveness.\n",
    "- A detailed qualitative error analysis of the best-performing model to identify common failure modes and suggest concrete directions for future research and model improvement.\n",
    "\n",
    "## 2. Project Structure\n",
    "\n",
    "The repository is organized to ensure reproducibility and a clear separation of concerns between training, analysis, and results.\n",
    "\n",
    "```\n",
    ". (c:/LLM's_for_SA/)\n",
    "├── LLMs_testing/\n",
    "│   ├── analysis.ipynb               # Notebook to analyze results and generate this README\n",
    "│   ├── marathi_finetune_and_eval.ipynb          (for xlm-roberta-base)\n",
    "│   ├── marathi_finetune_and_eval_mbert.ipynb    (for bert-base-multilingual-cased)\n",
    "│   ├── marathi_finetune_and_eval_muril.ipynb    (for google/muril-base-cased)\n",
    "│   ├── marathi_finetune_and_eval_l3cube.ipynb   (for l3cube-pune/marathi-bert)\n",
    "│   ├── marathi_finetune_and_eval_mahaalbert_v1.ipynb (for l3cube-pune/mahaalbert)\n",
    "│   ├── README.md                    # This documentation file\n",
    "│   ├── requirements.txt             # Python dependencies for the analysis\n",
    "│   └── images/                      # Directory for storing plots and visualizations\n",
    "│       ├── f1_comparison.png\n",
    "│       ├── accuracy_comparison.png\n",
    "│       └── error_analysis.png\n",
    "│\n",
    "├── output/\n",
    "│   └── balanced_mode_strict_domain.csv # The dataset used for training and evaluation\n",
    "│\n",
    "└── results/\n",
    "    └── notebook_run/                  # Directory containing outputs from all training runs\n",
    "        └── <timestamp>_<model_name>/  # Each run has its own folder with checkpoints, logs, and metrics\n",
    "```\n",
    "\n",
    "## 3. Methodology\n",
    "\n",
    "### 3.1. Dataset\n",
    "\n",
    "The experiments were conducted on a custom dataset of Marathi text, `balanced_mode_strict_domain.csv`, labeled with three sentiment classes: `positive`, `neutral`, and `negative`. The dataset was preprocessed and split into training (80%), validation (10%), and testing (10%) sets using stratified sampling to maintain the label distribution across all splits.\n",
    "\n",
    "### 3.2. Models Evaluated\n",
    "\n",
    "The following pretrained transformer models were selected for this study, representing a mix of general multilingual models and models specifically trained on Marathi or other Indic languages:\n",
    "\n",
    "{df_results['Model'].to_markdown(index=False)}\n",
    "\n",
    "### 3.3. Experimental Setup\n",
    "\n",
    "All models were fine-tuned using the Hugging Face `transformers` and `accelerate` libraries on a system equipped with an NVIDIA RTX 4050 GPU. The training was configured with the following key hyperparameters:\n",
    "- **Optimizer**: AdamW\n",
    "- **Learning Rate**: 2e-5\n",
    "- **Batch Size**: 16 (with gradient accumulation where necessary)\n",
    "- **Epochs**: 2\n",
    "- **Maximum Sequence Length**: 192 tokens\n",
    "- **Evaluation Strategy**: Metrics were computed at the end of each epoch, and the model checkpoint with the best macro F1-score on the validation set was saved for the final evaluation.\n",
    "\n",
    "## 4. Results and Discussion\n",
    "\n",
    "### 4.1. Quantitative Analysis\n",
    "\n",
    "The performance of each fine-tuned model was evaluated on the held-out test set. The table below summarizes the key metrics, comparing the baseline (pre-fine-tuning) performance with the final fine-tuned results. Models are sorted by macro F1-score.\n",
    "\n",
    "{results_md}\n",
    "\n",
    "![F1 Score Comparison](images/f1_comparison.png)\n",
    "![Accuracy Comparison](images/accuracy_comparison.png)\n",
    "\n",
    "As evidenced by the results, **{best_model_name}** significantly outperforms the other models, achieving an F1-score of **{best_f1:.4f}**. This suggests that models specifically pretrained on or for Indic languages, which often include transliterated and mixed-language data, hold a considerable advantage over general multilingual models for this task.\n",
    "\n",
    "### 4.2. Qualitative Error Analysis\n",
    "\n",
    "To understand the qualitative behavior of the best model, **{best_model_name}**, we conducted a detailed analysis of its misclassifications on the test set.\n",
    "\n",
    "![Error Analysis for {best_model_name}](images/error_analysis.png)\n",
    "\n",
    "The errors were programmatically categorized based on linguistic phenomena to identify systemic weaknesses:\n",
    "{error_category_counts}\n",
    "\n",
    "The following table provides concrete examples of these errors and their likely causes:\n",
    "\n",
    "{detailed_errors_md}\n",
    "\n",
    "### 4.3. Discussion of Findings\n",
    "\n",
    "The error analysis reveals several key challenges that are common in sentiment analysis for morphologically rich and code-mixed languages:\n",
    "- **Linguistic Nuance**: The model struggles with sarcasm, irony, and idiomatic expressions, where the literal meaning of words does not correspond to the overall sentiment. This is a classic NLP challenge that requires deeper contextual or world knowledge.\n",
    "- **Negation Handling**: While transformers are generally capable of handling negation, complex sentence structures or subtle negations can still cause the model to fail.\n",
    "- **Code-Mixing**: The presence of English words in Marathi sentences introduces ambiguity that the model is not always equipped to handle, sometimes leading it to weigh the English sentiment more heavily.\n",
    "- **Ambiguity and Subtlety**: Sentences with subtle or mixed sentiment are often misclassified, typically defaulting to `neutral` or being swayed by a single emotionally charged word.\n",
    "\n",
    "## 5. Conclusion and Future Work\n",
    "\n",
    "This study successfully demonstrates the effectiveness of fine-tuning transformer models for Marathi sentiment analysis, establishing that **{best_model_name}** provides the best performance among the evaluated models and serves as a strong baseline for future work.\n",
    "\n",
    "The error analysis highlights that the primary remaining challenges are linguistic in nature. Future work should focus on:\n",
    "1.  **Targeted Data Augmentation**: Creating or sourcing more training examples that specifically target sarcasm, complex negation, and common code-mixing scenarios.\n",
    "2.  **Advanced Modeling Techniques**: Exploring more sophisticated architectures, such as multi-task learning (e.g., jointly predicting sentiment and sarcasm) or incorporating external knowledge bases to better handle idiomatic language.\n",
    "3.  **Human-in-the-Loop Annotation**: Using the current model's prediction errors and low-confidence predictions to identify ambiguous samples for human review, thereby iteratively improving the quality and robustness of the training dataset.\n",
    "\n",
    "By addressing these challenges, we can further advance the capabilities of sentiment analysis for Marathi and other low-resource languages, paving the way for more nuanced and accurate NLP applications.\n",
    "\"\"\"\n",
    "\n",
    "# Write the final README file\n",
    "with open(readme_path, 'w', encoding='utf-8') as f:\n",
    "    f.write(readme_content)\n",
    "\n",
    "print(f\"✅ Research paper style README.md has been successfully generated at: {readme_path}\")\n",
    "print(f\"All plots have been saved in the '{images_dir.name}' directory.\")\n"
   ]
  },
  {
   "cell_type": "code",
   "execution_count": null,
   "id": "e283b0e8",
   "metadata": {},
   "outputs": [],
   "source": []
  }
 ],
 "metadata": {
  "kernelspec": {
   "display_name": "marx",
   "language": "python",
   "name": "python3"
  },
  "language_info": {
   "codemirror_mode": {
    "name": "ipython",
    "version": 3
   },
   "file_extension": ".py",
   "mimetype": "text/x-python",
   "name": "python",
   "nbconvert_exporter": "python",
   "pygments_lexer": "ipython3",
   "version": "3.11.13"
  }
 },
 "nbformat": 4,
 "nbformat_minor": 5
}
